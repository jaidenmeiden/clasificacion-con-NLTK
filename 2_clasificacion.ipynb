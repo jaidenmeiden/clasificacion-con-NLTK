{
 "cells": [
  {
   "cell_type": "markdown",
   "metadata": {
    "id": "6YTaQq9dCh0E"
   },
   "source": [
    "# Clasificación de palabras (por género de nombre en Español)"
   ]
  },
  {
   "cell_type": "markdown",
   "metadata": {
    "id": "rT7mmVnvFAcm"
   },
   "source": [
    "### Ejercicio de práctica\n",
    "\n",
    "**Objetivo:** Construye un classificador de nombres en español usando el siguiente dataset: \n",
    "https://github.com/jvalhondo/spanish-names-surnames"
   ]
  },
  {
   "cell_type": "markdown",
   "metadata": {
    "id": "NphJqahkFnjO"
   },
   "source": [
    "1. **Preparación de los datos**: con un `git clone` puedes traer el dataset indicado a tu directorio en Colab, luego asegurate de darle el formato adecuado a los datos y sus features para que tenga la misma estructura del ejemplo anterior con el dataset `names` de nombres en ingles. \n",
    "\n",
    "* **Piensa y analiza**: ¿los features en ingles aplican de la misma manera para los nombres en español?"
   ]
  },
  {
   "cell_type": "code",
   "execution_count": 2,
   "outputs": [],
   "source": [
    "import nltk, random"
   ],
   "metadata": {
    "collapsed": false,
    "pycharm": {
     "name": "#%%\n"
    }
   }
  },
  {
   "cell_type": "code",
   "execution_count": 3,
   "metadata": {
    "id": "OhbOT6_zFGHM",
    "pycharm": {
     "name": "#%%\n"
    }
   },
   "outputs": [
    {
     "name": "stdout",
     "output_type": "stream",
     "text": [
      "fatal: la ruta de destino 'spanish-names-surnames' ya existe y no es un directorio vacío.\r\n"
     ]
    }
   ],
   "source": [
    "!git clone https://github.com/jvalhondo/spanish-names-surnames"
   ]
  },
  {
   "cell_type": "code",
   "execution_count": 5,
   "metadata": {},
   "outputs": [],
   "source": [
    "def atributos(palabra):\n",
    "    return {'Ultima letra': palabra[-1]}\n",
    "\n",
    "def mas_atributos(nombre):\n",
    "    atributos = {}\n",
    "    atributos[\"primera_letra\"] = nombre[0].lower()\n",
    "    atributos[\"ultima_letra\"] = nombre[-1].lower()\n",
    "    for letra in 'abcdefghijklmnopqrstuvwxyz':\n",
    "        atributos[\"count({})\".format(letra)] = nombre.lower().count(letra)\n",
    "        atributos[\"has({})\".format(letra)] = (letra in nombre.lower())\n",
    "    return atributos\n",
    "\n",
    "def atributos_esp(nombre):\n",
    "    atributos = {}\n",
    "    atributos[\"primera_letra\"] = nombre[0].lower()\n",
    "    atributos[\"ultima_letra\"] = nombre[-1].lower() #Ultima letra\n",
    "    #atributos[\"ultimas_cinco_letras\"] = nombre[-5:].lower() #ultimas 5 letras\n",
    "    atributos[\"palabras\"] = len(nombre.split(\" \")) #Cuantas palabras tiene el nombre\n",
    "    for i, palabra in enumerate(nombre.split(\" \")):\n",
    "        atributos[\"primera_letra({})\".format(i)] = palabra[0].lower()\n",
    "        atributos[\"ultima_letra({})\".format(i)] = palabra[-1].lower()\n",
    "    return atributos"
   ]
  },
  {
   "cell_type": "code",
   "execution_count": 6,
   "metadata": {},
   "outputs": [],
   "source": [
    "import numpy as np\n",
    "tag_men = np.genfromtxt('spanish-names-surnames/male_names.csv', skip_header=1, delimiter=',', dtype=('U20','i8','f8'))\n",
    "tag_women = np.genfromtxt('spanish-names-surnames/female_names.csv', skip_header=1, delimiter=',', dtype=('U20','i8','f8'))"
   ]
  },
  {
   "cell_type": "code",
   "execution_count": 7,
   "metadata": {},
   "outputs": [
    {
     "data": {
      "text/plain": "49340"
     },
     "execution_count": 7,
     "metadata": {},
     "output_type": "execute_result"
    }
   ],
   "source": [
    "tagsetE = [(name[0], 'male') for name in tag_men] + [(name[0], 'female') for name in tag_women]\n",
    "len(tagsetE)"
   ]
  },
  {
   "cell_type": "code",
   "execution_count": 8,
   "metadata": {},
   "outputs": [
    {
     "data": {
      "text/plain": "[('ISABEL LOURDES', 'female'),\n ('MOKHTAR', 'male'),\n ('MARIA CRISTETA', 'female'),\n ('ESTEBAN FELIPE', 'male'),\n ('OLGA SOFIA', 'female'),\n ('AGURNE', 'female'),\n ('YARE', 'male'),\n ('GUSTAVO DANIEL', 'male'),\n ('CRISTINA CAMELIA', 'female'),\n ('SHIRLEY KARINA', 'female'),\n ('ANTONIO BASILIO', 'male'),\n ('DAINA', 'female'),\n ('JUSTYNA ANNA', 'female'),\n ('QUINO', 'male'),\n ('IRENE MANUELA', 'female'),\n ('EXPEDITO', 'male'),\n ('CARLOS MAXIMO', 'male'),\n ('ANABEL CARMEN', 'female'),\n ('ADRIAN GUILLERMO', 'male'),\n ('ALEXANDRU GABRIEL', 'male'),\n ('BOGDAN DANIEL', 'male'),\n ('PELIGROS', 'female'),\n ('GLORIA MATILDE', 'female'),\n ('ALVARO ROBERTO', 'male'),\n ('GURMUKH', 'male'),\n ('BABAK', 'male'),\n ('MANUEL SERGIO', 'male'),\n ('GLORIA AMANDA', 'female'),\n ('WILLIAM HERNAN', 'male'),\n ('ARMAND', 'male'),\n ('GLENN', 'male'),\n ('JUSTO JAVIER', 'male'),\n ('LUCI', 'female'),\n ('MARIA CELEDONIA', 'female'),\n ('VICENTE BENITO', 'male'),\n ('ANA SOFIA', 'female'),\n ('GAURAV', 'male'),\n ('DALILA MARIA', 'female'),\n ('IÑIGO JOSE', 'male'),\n ('JOSU IÑAKI', 'male'),\n ('NEREO', 'male'),\n ('TSANKO', 'male'),\n ('ANDREW JOSEPH', 'male'),\n ('BIKENDI', 'male'),\n ('YUN', 'female'),\n ('SALUSTIANA', 'female'),\n ('CRISTINA ASCENSION', 'female'),\n ('ARTURO RAUL', 'male'),\n ('PRESLAVA', 'female'),\n ('JUDITH ELIZABETH', 'female'),\n ('ISARD', 'male'),\n ('ALVIN', 'male'),\n ('GUILLERMO DAVID', 'male'),\n ('ALEXANDRU DAVID', 'male'),\n ('SONIA LUCIA', 'female'),\n ('ALEJANDRA CONCEPCION', 'female'),\n ('ISABEL SANDRA', 'female'),\n ('ODILIA', 'female'),\n ('DANIEL EZEQUIEL', 'male'),\n ('MORENA', 'female'),\n ('JOSE MARIA JAVIER', 'male'),\n ('OUADIE', 'male'),\n ('CRISTOBAL MARIA', 'male'),\n ('JORGE ROLANDO', 'male'),\n ('MARIA VITALINA', 'female'),\n ('ISABEL ANA', 'female'),\n ('CUSTODIA MARIA', 'female'),\n ('SEVERINA', 'female'),\n ('LILIANA CAROLINA', 'female'),\n ('MANOLITA', 'female'),\n ('CHRISTOPHER ANDREW', 'male'),\n ('CAROLINA SOLEDAD', 'female'),\n ('ZHI', 'female'),\n ('CESAR CARLOS', 'male'),\n ('LUCIA LOURDES', 'female'),\n ('YILENA', 'female'),\n ('ELVIRA ANA', 'female'),\n ('IMELDA MARIA', 'female'),\n ('ABDELALI', 'male'),\n ('DENIS DAVID', 'male'),\n ('LOUKMAN', 'male'),\n ('KELLY VANESSA', 'female'),\n ('PETRU MARIUS', 'male'),\n ('EMANUEL ALEXANDRU', 'male'),\n ('ANINA', 'female'),\n ('ROBERTO PASCUAL', 'male'),\n ('NAVJOT', 'female'),\n ('ELZBIETA MARIA', 'female'),\n ('SANTIAGO VICENTE', 'male'),\n ('EFRAIN JESUS', 'male'),\n ('AKAKI', 'male'),\n ('SERGIO MOISES', 'male'),\n ('CRUZ MARIA', 'male'),\n ('HACOMAR', 'male'),\n ('MOH SALEM', 'male'),\n ('SEGISFREDO', 'male'),\n ('YIHAN', 'male'),\n ('JUAN ALEJO', 'male'),\n ('MATEO SEBASTIAN', 'male'),\n ('EDWIN RAMIRO', 'male'),\n ('MERCEDES MARIA', 'female'),\n ('ZIYI', 'female'),\n ('ELOY ANGEL', 'male'),\n ('BRYAN JOEL', 'male'),\n ('JULIA BEATRIZ', 'female'),\n ('BERDAITZ', 'male'),\n ('MARCOS RUBEN', 'male'),\n ('THOMAS JOSEPH', 'male'),\n ('PATRICIA ELVIRA', 'female'),\n ('MIRIAM VALLE', 'female'),\n ('MANUELA IRENE', 'female'),\n ('RAQUEL ANTONIA', 'female'),\n ('ALONA', 'female'),\n ('ALICIA GRACIELA', 'female'),\n ('STANLEY', 'male'),\n ('KAREN ANNE', 'female'),\n ('YURI', 'male'),\n ('DIEGO JOAQUIN', 'male'),\n ('MARIA INDALECIA', 'female'),\n ('OSCAR ROLANDO', 'male'),\n ('SONIA MARINA', 'female'),\n ('VANESSA ANGELES', 'female'),\n ('SUZETTE', 'female'),\n ('VALERIA PILAR', 'female'),\n ('ABASSE', 'male'),\n ('ADELA PATRICIA', 'female'),\n ('ELEUTERIO MANUEL', 'male'),\n ('RUBEN GUSTAVO', 'male'),\n ('DIEGO CARMELO', 'male'),\n ('TAVITA', 'female'),\n ('CARLOS IÑIGO', 'male'),\n ('SOUBIHA', 'female'),\n ('TINCA', 'female'),\n ('JESUS MARINO', 'male'),\n ('PAULO MANUEL', 'male'),\n ('ISRAEL MANUEL', 'male'),\n ('NATALIA ANNA', 'female'),\n ('CARMEN LILIAN', 'female'),\n ('YESSICA ALEJANDRA', 'female'),\n ('ARTURO SANTIAGO', 'male'),\n ('DATIVO', 'male'),\n ('LUIS ROBERTO', 'male'),\n ('ENZO DANIEL', 'male'),\n ('JOSE ARNULFO', 'male'),\n ('EROL', 'male'),\n ('LUZ BENIGNA', 'female'),\n ('MARLA', 'female'),\n ('NEYVA', 'female'),\n ('EUGENIO ANTONIO', 'male'),\n ('IVAN GONZALO', 'male'),\n ('ISABEL SUSANA', 'female'),\n ('MARTA DOLORES', 'female'),\n ('JOSEFINA ROSARIO', 'female'),\n ('NELUTU', 'male'),\n ('RAMON CRISTOBAL', 'male'),\n ('MIGUEL CECILIO', 'male'),\n ('PAMELA ESTEFANIA', 'female'),\n ('MARTIN JOSE', 'male'),\n ('ROSA ELENA', 'female'),\n ('PEDRO LEONARDO', 'male'),\n ('JUANA ANGELA', 'female'),\n ('ANNA MONIKA', 'female'),\n ('ANDRADA', 'female'),\n ('MARCIAL LUIS', 'male'),\n ('ROBERTO DIEGO', 'male'),\n ('JUAN SAMUEL', 'male'),\n ('XENIA MARIA', 'female'),\n ('IRMA LUCIA', 'female'),\n ('OSCAR JUNIOR', 'male'),\n ('EDGAR ALFREDO', 'male'),\n ('BRENDA ANN', 'female'),\n ('ZARINA', 'female'),\n ('NADAL', 'male'),\n ('PAOLA NATALIA', 'female'),\n ('JASON', 'male'),\n ('HERMAN', 'male'),\n ('CHEICKNE', 'male'),\n ('MAX ALEXANDER', 'male'),\n ('TORNIKE', 'male'),\n ('DANIEL GABRIEL', 'male'),\n ('JONATHAN ISMAEL', 'male'),\n ('ABDU', 'male'),\n ('DOLORES RAQUEL', 'female'),\n ('JOAN SEBASTIAN', 'male'),\n ('MARIA BELEN', 'female'),\n ('ITSASNE', 'female'),\n ('ANDREA NOEMI', 'female'),\n ('BLANCA DOLORES', 'female'),\n ('CONSTANTIN SORIN', 'male'),\n ('ANGELA CRISTINA', 'female'),\n ('CRISTIAN ALEXANDER', 'male'),\n ('YILIAN', 'female'),\n ('FOUSSEYNI', 'male'),\n ('AMADOR JOSE', 'male'),\n ('AMAL', 'male'),\n ('MAGDA', 'female'),\n ('ABDELMOUMEN', 'male'),\n ('GERSAIN', 'male'),\n ('JUAN EUSTAQUIO', 'male'),\n ('IOAN LUCIAN', 'male'),\n ('DIE', 'female'),\n ('LEIDY ALEXANDRA', 'female'),\n ('ABRAHAM MOISES', 'male'),\n ('MARIA TERESA', 'female'),\n ('CAMILA SOFIA', 'female'),\n ('MARWANE', 'male'),\n ('IVAN PETROV', 'male'),\n ('YVONNE ELIZABETH', 'female'),\n ('ERNESTO FIDEL', 'male'),\n ('IRENEUSZ', 'male'),\n ('JUAN JONAS', 'male'),\n ('VALENCIA', 'female'),\n ('ROSARIO ANA', 'female'),\n ('WILLIAM FREDERICK', 'male'),\n ('MARIUS VIOREL', 'male'),\n ('DALMACIO', 'male'),\n ('ROSA ESTEFANIA', 'female'),\n ('DAVID ALBERT', 'male'),\n ('MEHDIA', 'female'),\n ('BENITO DAVID', 'male'),\n ('HEBE', 'female'),\n ('MARIA DALILA', 'female'),\n ('LIDICE', 'female'),\n ('ROCIO ALBA', 'female'),\n ('LARISA ELENA', 'female'),\n ('VANESSA GABRIELA', 'female'),\n ('YESICA ALEJANDRA', 'female'),\n ('INES CONCEPCION', 'female'),\n ('EMILIO VICTOR', 'male'),\n ('LUIS MARCELINO', 'male'),\n ('MARIA PILAR VICENTA', 'female'),\n ('MARCELINA MARIA', 'female'),\n ('DACIANO', 'male'),\n ('MOISES RAFAEL', 'male'),\n ('ANTONIO CARMELO', 'male'),\n ('YONGXIN', 'male'),\n ('MARIUS TRAIAN', 'male'),\n ('NEZHA', 'female'),\n ('CARMEN TOMASA', 'female'),\n ('ANDREI LUCIAN', 'male'),\n ('AIYUE', 'female'),\n ('REMEDIOS DOLORES', 'female'),\n ('MARIA GERARDA', 'female'),\n ('YAIR', 'male'),\n ('LUZ AYDEE', 'female'),\n ('SABRIN', 'female'),\n ('OCTAVIO MANUEL', 'male'),\n ('ALIE', 'male'),\n ('MARIA CLAUDINA', 'female'),\n ('CARMEN ROSARIO', 'female'),\n ('AIMEE', 'female'),\n ('JOSE GUMERSINDO', 'male'),\n ('FERNANDA ISABEL', 'female'),\n ('FLORINA GABRIELA', 'female'),\n ('FLORA CARMEN', 'female'),\n ('DANIELA NOEMI', 'female'),\n ('ALEXANDRU DANIEL', 'male'),\n ('XIUFENG', 'female'),\n ('SANDRA VIRGINIA', 'female'),\n ('AURORA VICTORIA', 'female'),\n ('CARMEN JUANA', 'female'),\n ('MELISSA ALEJANDRA', 'female'),\n ('ALDINA', 'female'),\n ('ROGER JAMES', 'male'),\n ('JACINTO FERNANDO', 'male'),\n ('NOURREDDINE', 'male'),\n ('SOAD', 'female'),\n ('XIMENA PATRICIA', 'female'),\n ('GUSTAVO HORACIO', 'male'),\n ('NELYA', 'female'),\n ('FERNANDO AITOR', 'male'),\n ('ARGENTINO', 'male'),\n ('YI', 'male'),\n ('IULIANA MARIA', 'female'),\n ('TONI', 'female'),\n ('CLEONICE', 'female'),\n ('ERNESTO JOAQUIN', 'male'),\n ('CLARA INES', 'female'),\n ('ROBERT RICHARD', 'male'),\n ('INGER MARIE', 'female'),\n ('MERCEDES JOSEFA', 'female'),\n ('JAOUAD', 'male'),\n ('JOHN DANIEL', 'male'),\n ('MARIA BERTILA', 'female'),\n ('SHARAI', 'female'),\n ('IVAN GEORGIEV', 'male'),\n ('ALMA ROCIO', 'female'),\n ('CESAR LORENZO', 'male'),\n ('ANA ESMERALDA', 'female'),\n ('KAMALA', 'female'),\n ('EDGARDO JAVIER', 'male'),\n ('ANISOARA', 'female'),\n ('JORGE RAMON', 'male'),\n ('SANTIAGO ARTURO', 'male'),\n ('MARIA BERTA', 'female'),\n ('VICENTE MATIAS', 'male'),\n ('ROSSANA MABEL', 'female'),\n ('QUITERIO', 'male'),\n ('OUALID', 'male'),\n ('JOAN MARY', 'female'),\n ('RAZVAN NICOLAE', 'male'),\n ('MARTHA LUCILA', 'female'),\n ('EDUARDO PABLO', 'male'),\n ('LUCIA MANUELA', 'female'),\n ('ROSI', 'female'),\n ('SHARMIN', 'female'),\n ('CORINA IOANA', 'female'),\n ('MARIA CARMEN ESTHER', 'female'),\n ('NAJIBA', 'female'),\n ('ANTONIO SATURNINO', 'male'),\n ('ROBERT JESUS', 'male'),\n ('JIMMY ANDRES', 'male'),\n ('SILVIA LORENA', 'female'),\n ('FRANCISCO DANIEL', 'male'),\n ('EVA FRANCISCA', 'female'),\n ('ANGEL GEORGIEV', 'male'),\n ('HAROON', 'male'),\n ('KARINA CARMEN', 'female'),\n ('JOSE SERGIO', 'male'),\n ('IZA', 'female'),\n ('JOSE MAXIMO', 'male'),\n ('GLORIA ESTELA', 'female'),\n ('XIAOTING', 'female'),\n ('RAQUEL ANA', 'female'),\n ('SARA PAOLA', 'female'),\n ('CARMEN SONIA', 'female'),\n ('ELISA CARMEN', 'female'),\n ('ANSELMO JAVIER', 'male'),\n ('SONIA SOLEDAD', 'female'),\n ('CARLOS ROGELIO', 'male'),\n ('JOSE DONATO', 'male'),\n ('CONSUELO PILAR', 'female'),\n ('CONNOR', 'male'),\n ('SHUPING', 'female'),\n ('ARIADNA ISABEL', 'female'),\n ('LAURA JANE', 'female'),\n ('DIANA MARITZA', 'female'),\n ('JOHN ANDER', 'male'),\n ('ESTEBAN VICENTE', 'male'),\n ('SYLWIA ANNA', 'female'),\n ('ADINA ELENA', 'female'),\n ('ERICA', 'female'),\n ('RAQUEL JESUS', 'female'),\n ('BEATRIZ NIEVES', 'female'),\n ('ADRIAN ALEXANDRU', 'male'),\n ('BIRANE', 'male'),\n ('XUJUN', 'male'),\n ('FLORENTINO', 'male'),\n ('JHON FERNANDO', 'male'),\n ('NOHELIA', 'female'),\n ('MAXIMINO', 'male'),\n ('MARIA AIDE', 'female'),\n ('ANDREA IOANA', 'female'),\n ('JOSEP ORIOL', 'male'),\n ('CLAUDIA ALEJANDRA', 'female'),\n ('ANNA MARIA', 'female'),\n ('BLANCA ESTER', 'female'),\n ('GISELLE MARIA', 'female'),\n ('ADARAY', 'female'),\n ('GOODLUCK', 'male'),\n ('CHUNLING', 'female'),\n ('MARIA AUGUSTA', 'female'),\n ('IOAN GABRIEL', 'male'),\n ('OLALLA MARIA', 'female'),\n ('ROMINA VANESA', 'female'),\n ('YERAY ALEJANDRO', 'male'),\n ('GHEORGHE BOGDAN', 'male'),\n ('STEPHANIE ANN', 'female'),\n ('BLANCA ESTRELLA', 'female'),\n ('ALEXA', 'male'),\n ('ALEJANDRO LUCAS', 'male'),\n ('NOLASCO', 'male'),\n ('TIAGO JOSE', 'male'),\n ('CIPRIAN ANDREI', 'male'),\n ('MARIA DIANA', 'female'),\n ('ABDEL ILAH', 'male'),\n ('JULIAN ANTONIO', 'male'),\n ('JUSTO IGNACIO', 'male'),\n ('ANGEL AVELINO', 'male'),\n ('IOANA RALUCA', 'female'),\n ('CARMEN PAULINA', 'female'),\n ('FERDINANDO', 'male'),\n ('SHIRLEY DAYANA', 'female'),\n ('CARMEN PAULA', 'female'),\n ('FATOUM', 'female'),\n ('MOULOUDA', 'female'),\n ('JOSE VALERO', 'male'),\n ('ENRIQUE FRANCISCO', 'male'),\n ('JORGE NORBERTO', 'male'),\n ('JAYNE', 'female'),\n ('OLIVER JOSE', 'male'),\n ('HELEN LOUISE', 'female'),\n ('MAYRA ELIZABETH', 'female'),\n ('JOAQUIN GABRIEL', 'male'),\n ('ADAY ANTONIO', 'male'),\n ('PILAR SUSANA', 'female'),\n ('YOUNES', 'male'),\n ('DELMIRO', 'male'),\n ('ROZA', 'female'),\n ('BEATRIZ', 'female'),\n ('ISMAEL FRANCISCO', 'male'),\n ('ANTONIETTA', 'female'),\n ('IULIANA MARIANA', 'female'),\n ('JOSE ARTUR', 'male'),\n ('BONAVENTURA', 'male'),\n ('SOKHNA', 'female'),\n ('ALTAF', 'male'),\n ('XABIER MIKEL', 'male'),\n ('CARLOS DARIO', 'male'),\n ('ELOY ALBERTO', 'male'),\n ('GRACIELA ISABEL', 'female'),\n ('YASAR', 'male'),\n ('INES CONSUELO', 'female'),\n ('LUIS ARSENIO', 'male'),\n ('NOELIA SOLEDAD', 'female'),\n ('MILEIDY', 'female'),\n ('ALAIA', 'female'),\n ('MARIA THERESA', 'female'),\n ('JESSICA BEATRIZ', 'female'),\n ('NATALIA LORENA', 'female'),\n ('SALVADOR FRANCISCO', 'male'),\n ('DENISA ANA MARIA', 'female'),\n ('POLA', 'female'),\n ('GENADIO', 'male'),\n ('IONUT CATALIN', 'male'),\n ('AGUEDA ROCIO', 'female'),\n ('BLANCA CAROLINA', 'female'),\n ('ANDREA CARMEN', 'female'),\n ('VICTORIANO ANGEL', 'male'),\n ('LEONARD IONUT', 'male'),\n ('WENHUA', 'female'),\n ('WILLIAM ANTONIO', 'male'),\n ('NICOLAS GONZALO', 'male'),\n ('KENIA MARIA', 'female'),\n ('BERNABE JOSE', 'male'),\n ('LUZ PILAR', 'female'),\n ('BODIL', 'female'),\n ('JIANMEI', 'female'),\n ('VALENTINA DANIELA', 'female'),\n ('GRIETJE', 'female'),\n ('DRAGOS MIHAI', 'male'),\n ('ABRAHAM JOSUE', 'male'),\n ('BETTY ROCIO', 'female'),\n ('BLANCA AMAYA', 'female'),\n ('MUMTAZ', 'male'),\n ('JUAN BIENVENIDO', 'male'),\n ('SIFEDDINE', 'male'),\n ('MARISSA', 'female'),\n ('ALEJANDRO RAMON', 'male'),\n ('CINTHIA PAOLA', 'female'),\n ('MANUEL CLEMENTE', 'male'),\n ('NURIA MONTSERRAT', 'female'),\n ('OLGA CONCEPCION', 'female'),\n ('SANTIAGA', 'female'),\n ('GUAIRE', 'male'),\n ('ARMANDO RAUL', 'male'),\n ('SONIA VERONICA', 'female'),\n ('FRANCISCO ANIBAL', 'male'),\n ('UMBERTO', 'male'),\n ('PAU FRANCESC', 'male'),\n ('JABRAN', 'male'),\n ('ENRIQUE AUGUSTO', 'male'),\n ('IONELA LARISA', 'female'),\n ('ANTONIO ALEXIS', 'male'),\n ('ANTONIA INMACULADA', 'female'),\n ('NICETA', 'female'),\n ('GIAN', 'male'),\n ('MARTHA LUCIA', 'female'),\n ('FELIX ERNESTO', 'male'),\n ('NAIDA', 'female'),\n ('LIDUVINA', 'female'),\n ('ESTHER MONTSERRAT', 'female'),\n ('STEVEN MICHAEL', 'male'),\n ('JOAQUIM AUGUSTO', 'male'),\n ('RODRIGO DANIEL', 'male'),\n ('SANTINA', 'female'),\n ('FREDDY ANTONIO', 'male'),\n ('MICHAEL ALEJANDRO', 'male'),\n ('BENYOUSSEF', 'male'),\n ('OUAHID', 'male'),\n ('LEOPOLDO MIGUEL', 'male'),\n ('ADINA', 'female'),\n ('MOUHAMED LAMINE', 'male'),\n ('PATRICIO DANIEL', 'male'),\n ('HUGO ENRIQUE', 'male'),\n ('KLEBER', 'male'),\n ('HRISTIYANA', 'female'),\n ('TERESA VICENTA', 'female'),\n ('NATALIA PAOLA', 'female'),\n ('PABLO ADOLFO', 'male'),\n ('JOSE ARMANDO', 'male'),\n ('VLADIMER', 'male'),\n ('TELM', 'male'),\n ('GUIOMAR', 'female'),\n ('EULOGIO ANTONIO', 'male'),\n ('MARTIN SEBASTIAN', 'male'),\n ('PAOLA PATRICIA', 'female'),\n ('DAYMI', 'female'),\n ('ALBERTO IVAN', 'male'),\n ('JAHAIRA', 'female'),\n ('GLADYS ALICIA', 'female'),\n ('BLAS JESUS', 'male'),\n ('KATHERINE ANNE', 'female'),\n ('PASCUAL ALBERTO', 'male'),\n ('CARLOS EDWIN', 'male'),\n ('TIANYU', 'male'),\n ('LAURYNAS', 'male'),\n ('DARIO JOSE', 'male'),\n ('MARTIN ROBERTO', 'male'),\n ('LERIDA', 'female'),\n ('JOE LUIS', 'male'),\n ('CEZARINA', 'female'),\n ('BLANCA SONIA', 'female'),\n ('MERCEDES INES', 'female'),\n ('ALISA', 'female'),\n ('FERNANDO AGUSTIN', 'male'),\n ('BASHARAT', 'male'),\n ('MARIA ANABEL', 'female'),\n ('ABAD', 'male'),\n ('CARLOS MARCELO', 'male'),\n ('JOSE PORFIRIO', 'male'),\n ('RUOXI', 'female'),\n ('MARTHA ALEJANDRA', 'female'),\n ('CARLOS EMILIO', 'male'),\n ('JOHN ALEJANDRO', 'male'),\n ('CLARICE', 'female'),\n ('MARIA CLAUSTRE', 'female'),\n ('DIEGO MARCOS', 'male'),\n ('KHADIME', 'male'),\n ('DORCAS', 'female'),\n ('SAMUEL TOMAS', 'male'),\n ('JOAQUIN JESUS', 'male'),\n ('ADRIAN ERNESTO', 'male'),\n ('JORGE BENJAMIN', 'male'),\n ('XINRU', 'female'),\n ('EGUZKI', 'male'),\n ('ANTONIO ANIBAL', 'male'),\n ('MARIA MIREYA', 'female'),\n ('MARIA ASCENSIO', 'female'),\n ('CORA', 'female'),\n ('BEVERLEY JANE', 'female'),\n ('SERGIO FRANCISCO', 'male'),\n ('JACQUELINE LOUISE', 'female'),\n ('CRISTIAN CAMILO', 'male'),\n ('BRAUDILIA', 'female'),\n ('BENITO TOMAS', 'male'),\n ('NICUSOR', 'male'),\n ('LIGIA MARIA', 'female'),\n ('MEGI', 'female'),\n ('FRANCISCA GEMA', 'female'),\n ('CRISTINA EUGENIA', 'female'),\n ('INGRID GABRIELA', 'female'),\n ('MARIA FONTCALDA', 'female'),\n ('RICARDO MARCELO', 'male'),\n ('PRISCILIANO', 'male'),\n ('RODRIGO JESUS', 'male'),\n ('ALEJANDRO CRUZ', 'male'),\n ('INGRID KATHERINE', 'female'),\n ('ENCARNI', 'female'),\n ('MIRIAM ELISA', 'female'),\n ('ANAIS', 'female'),\n ('DIOSNEL', 'male'),\n ('DOLORES RITA', 'female'),\n ('GOTZON MIRENA', 'male'),\n ('IGNACIO RUBEN', 'male'),\n ('JINHONG', 'female'),\n ('NURY', 'female'),\n ('RANDA', 'female'),\n ('BRYAN MAURICIO', 'male'),\n ('ERIK JOSE', 'male'),\n ('SANTIAGO ANTONIO', 'male'),\n ('MARIA KORO', 'female'),\n ('ALBERTO LEONARDO', 'male'),\n ('BOUTAYEB', 'male'),\n ('XAN', 'male'),\n ('LUZ ADIELA', 'female'),\n ('SARA ALICIA', 'female'),\n ('MIGUEL DOMINGO', 'male'),\n ('MARIA BEATRIZ', 'female'),\n ('JOANA PATRICIA', 'female'),\n ('INES ROSA', 'female'),\n ('ATEF', 'male'),\n ('CARLOTA VICTORIA', 'female'),\n ('URCESINA', 'female'),\n ('MARIANA MARIA', 'female'),\n ('JULIA MANUELA', 'female'),\n ('ROXANA LOREDANA', 'female'),\n ('ALEXANDRU LAURENTIU', 'male'),\n ('EDUARDO TOMAS', 'male'),\n ('AN QI', 'female'),\n ('SUZHU', 'female'),\n ('OSCAR IGNACIO', 'male'),\n ('JAZMIN', 'female'),\n ('KATTIA', 'female'),\n ('ISMAEL', 'male'),\n ('LADA', 'female'),\n ('MARIA ELCIRA', 'female'),\n ('SERGIO ROMAN', 'male'),\n ('FRANCISCO ABRAHAM', 'male'),\n ('SEBASTIAN ALEJO', 'male'),\n ('HELENA BEATRIZ', 'female'),\n ('ABENCIO', 'male'),\n ('LIDIA ANA', 'female'),\n ('PATRICIA RAQUEL', 'female'),\n ('MOHAMED SAMI', 'male'),\n ('XIAOQIANG', 'male'),\n ('MARIA CORPUS', 'female'),\n ('YONGLIANG', 'male'),\n ('PEDRO ISIDRO', 'male'),\n ('HOLLY', 'female'),\n ('MERCEDES LOURDES', 'female'),\n ('NING', 'female'),\n ('DARIO ENRIQUE', 'male'),\n ('ERIAN', 'male'),\n ('MARIA ENRIQUETA', 'female'),\n ('IDAIRA CARMEN', 'female'),\n ('ROCIO PATRICIA', 'female'),\n ('PANTALEONA', 'female'),\n ('ROSA VERONICA', 'female'),\n ('ARIANE', 'female'),\n ('LAURA VALERIA', 'female'),\n ('IOANA VIORICA', 'female'),\n ('LEIDY DANIELA', 'female'),\n ('ANE MAITE', 'female'),\n ('NELSON ANTONIO', 'male'),\n ('RUBEN HECTOR', 'male'),\n ('JENIFER MARIA', 'female'),\n ('SOFIA ROSA', 'female'),\n ('MACARENA ROSARIO', 'female'),\n ('HAITZ', 'male'),\n ('ATTILIO', 'male'),\n ('GLADYS NOEMI', 'female'),\n ('DIEGO ALESSANDRO', 'male'),\n ('GUILLERMO ENRIQUE', 'male'),\n ('HAFED', 'male'),\n ('NEVILLE', 'male'),\n ('ITHAYSA', 'female'),\n ('MIKEL GARIKOITZ', 'male'),\n ('JESUS LUCIO', 'male'),\n ('MERCE', 'female'),\n ('GASTON NICOLAS', 'male'),\n ('NUHACET', 'male'),\n ('MARGARET ANN', 'female'),\n ('JUAN GREGORIO', 'male'),\n ('JOAN ADRIA', 'male'),\n ('JESSICA PAOLA', 'female'),\n ('AURORA ANA', 'female'),\n ('PAULINE ELIZABETH', 'female'),\n ('YVETTE', 'female'),\n ('KLAVDIYA', 'female'),\n ('PRISCILA MARIA', 'female'),\n ('SEBASTIAN DANIEL', 'male'),\n ('LUKASZ PIOTR', 'male'),\n ('INMACULADA MONTSERRA', 'female'),\n ('YUNEISY', 'female'),\n ('SUFIAN', 'male'),\n ('FRIEDRICH', 'male'),\n ('LUCREZIA', 'female'),\n ('EVA ESPERANZA', 'female'),\n ('DILAN', 'male'),\n ('ANA MARIA LOURDES', 'female'),\n ('MARCO ALEXANDRE', 'male'),\n ('SIMINA', 'female'),\n ('MARIA ROMERO', 'female'),\n ('JEFFERSON EDUARDO', 'male'),\n ('YOVANNY', 'male'),\n ('JOSEFA OLIVA', 'female'),\n ('MATTHIAS', 'male'),\n ('MANALE', 'female'),\n ('SEGUNDO ANDRES', 'male'),\n ('LYDIA CARMEN', 'female'),\n ('RAUL CRISTIAN', 'male'),\n ('ROSA OLGA', 'female'),\n ('ANTONIO BERNARDINO', 'male'),\n ('SEGUNDO LUIS', 'male'),\n ('MAMOU', 'female'),\n ('BIANCA STEFANIA', 'female'),\n ('MEKKI', 'male'),\n ('TAKASHI', 'male'),\n ('DUBERNEY', 'male'),\n ('JENNY MARGARITA', 'female'),\n ('FALOU', 'male'),\n ('MARIA TARSILA', 'female'),\n ('EL ARABI', 'male'),\n ('JURG', 'male'),\n ('ALEJANDRO DARIO', 'male'),\n ('RAUL MARIO', 'male'),\n ('FLORIN EDUARD', 'male'),\n ('BIANCA MIHAELA', 'female'),\n ('LAUREANO', 'male'),\n ('CARLA ELENA', 'female'),\n ('ANA EMMA', 'female'),\n ('MARIA PATRICIA', 'female'),\n ('ZOUHIR', 'male'),\n ('ADRIAN GHEORGHE', 'male'),\n ('BARUC', 'male'),\n ('RAMON JOSE', 'male'),\n ('ISIDORO JESUS', 'male'),\n ('YESSIKA', 'female'),\n ('MAYRA ROCIO', 'female'),\n ('SAYOA', 'female'),\n ('CARMEN MANUELA', 'female'),\n ('DAHIANA', 'female'),\n ('BADER', 'male'),\n ('ANTONIA BEGOÑA', 'female'),\n ('ZHIPING', 'male'),\n ('SUSANA CATALINA', 'female'),\n ('CARMEN ROSAURA', 'female'),\n ('MAHAM', 'female'),\n ('MARIA MAGDALENA', 'female'),\n ('LUIS OSWALDO', 'male'),\n ('MANUEL ALEXANDRE', 'male'),\n ('ITALIA', 'female'),\n ('JOSE HERMENEGILDO', 'male'),\n ('MARCOS JOSUE', 'male'),\n ('GULNAZ', 'female'),\n ('PEDRO XAVIER', 'male'),\n ('SANTOS JESUS', 'male'),\n ('LAUDINA', 'female'),\n ('DAVID JOSEPH', 'male'),\n ('RAFFAELLA', 'female'),\n ('JONATAN JOSE', 'male'),\n ('WALTER GUSTAVO', 'male'),\n ('FANNY MARLENE', 'female'),\n ('BERTA ISABEL', 'female'),\n ('RUTH CECILIA', 'female'),\n ('ANTONIO J', 'male'),\n ('AIZETI', 'female'),\n ('BORJA FRANCISCO', 'male'),\n ('GLADYS NARCISA', 'female'),\n ('MARK FRANCIS', 'male'),\n ('BRETT', 'male'),\n ('ANA JOSEFA', 'female'),\n ('HECTOR MARIO', 'male'),\n ('JOSE GUILLERMO', 'male'),\n ('MARIUS LUCIAN', 'male'),\n ('JUANA PATRICIA', 'female'),\n ('DAVID ALAN', 'male'),\n ('DESIDERIO', 'male'),\n ('ELORA', 'female'),\n ('ALICIO', 'male'),\n ('DENISA FLORENTINA', 'female'),\n ('LILIANA MARCELA', 'female'),\n ('ENCARNACION ANGELES', 'female'),\n ('MARIA FELISA', 'female'),\n ('JOSE EUTIMIO', 'male'),\n ('MARIANA LORENA', 'female'),\n ('PAULA LETICIA', 'female'),\n ('MIGUEL MARTIN', 'male'),\n ('TOMAS FELIPE', 'male'),\n ('DANIEL FERMIN', 'male'),\n ('CHRISTINE MARIE', 'female'),\n ('SHIHAN', 'female'),\n ('ANTONIO PATRICIO', 'male'),\n ('YANLI', 'female'),\n ('TOMASA CARMEN', 'female'),\n ('ARMANDO VICENTE', 'male'),\n ('JOHN EDISON', 'male'),\n ('RAMAZAN', 'male'),\n ('SARA GEMA', 'female'),\n ('MARIA VICO', 'female'),\n ('JOSE DELFIN', 'male'),\n ('JORGE AGUSTIN', 'male'),\n ('ANGELES CATALINA', 'female'),\n ('PETAR GEORGIEV', 'male'),\n ('TIGUIDA', 'female'),\n ('RUTH ANN', 'female'),\n ('SAMIYA', 'female'),\n ('ANGELA DOLORES', 'female'),\n ('MOISES EDUARDO', 'male'),\n ('PAUL JOHN', 'male'),\n ('ANA YANIRA', 'female'),\n ('ANA BIENVENIDA', 'female'),\n ('AMALIA CRISTINA', 'female'),\n ('RAYYAN', 'male'),\n ('GONZALO NICOLAS', 'male'),\n ('MARGARITA NIEVES', 'female'),\n ('NORMA SOLEDAD', 'female'),\n ('JAIME PABLO', 'male'),\n ('BRANISLAV', 'male'),\n ('YING', 'male'),\n ('SIBYLLE', 'female'),\n ('JULIO IVAN', 'male'),\n ('ENMA ROSA', 'female'),\n ('AVILIO', 'male'),\n ('ALINA CATALINA', 'female'),\n ('AGATA', 'female'),\n ('MIMONA', 'female'),\n ('MIREN JULENE', 'female'),\n ('KELTSE', 'female'),\n ('LUZ ESMERALDA', 'female'),\n ('SONIA BELEN', 'female'),\n ('GASTON MATIAS', 'male'),\n ('JOSEP ADRIA', 'male'),\n ('KEWIN', 'male'),\n ('BACILIA', 'female'),\n ('HITESH', 'male'),\n ('FELIPE MIGUEL', 'male'),\n ('ANTONIN', 'male'),\n ('DAVINIA PILAR', 'female'),\n ('MARIA JUSTINA', 'female'),\n ('INES ALICIA', 'female'),\n ('SABRINA SOLEDAD', 'female'),\n ('AHLAME', 'female'),\n ('ANDONI', 'male'),\n ('COLIN DAVID', 'male'),\n ('EUGENIA ROSA', 'female'),\n ('GINNA PAOLA', 'female'),\n ('JULIAN ALFONSO', 'male'),\n ('ERICA PATRICIA', 'female'),\n ('AMINE', 'male'),\n ('MONICA MARINA', 'female'),\n ('ROBERTO HORACIO', 'male'),\n ('YANEL', 'female'),\n ('BLAS MARIA', 'male'),\n ('MARILYN', 'female'),\n ('JESUS CARLOS', 'male'),\n ('KELLY ANDREA', 'female'),\n ('GUADITOCA', 'female'),\n ('GREGORIO MARIA', 'male'),\n ('JAIME RAUL', 'male'),\n ('DEJAN', 'male'),\n ('AGUSTIN JULIO', 'male'),\n ('ESMA', 'female'),\n ('FRANCHESCA', 'female'),\n ('LEYDI JOHANA', 'female'),\n ('DANIEL STIVEN', 'male'),\n ('ANTONIA RITA', 'female'),\n ('TOMAS ADRIAN', 'male'),\n ('ARMANDO ENRIQUE', 'male'),\n ('CESAR VICENTE', 'male'),\n ('ADRIANA ALINA', 'female'),\n ('DIMITAR', 'male'),\n ('LIZ ANDREA', 'female'),\n ('FULVIA', 'female'),\n ('BETTY MARLENE', 'female'),\n ('HUGO GUILLERMO', 'male'),\n ('VALENTINA SOFIA', 'female'),\n ('ALIN LUCIAN', 'male'),\n ('KATHERINE MISHELL', 'female'),\n ('MINGMING', 'male'),\n ('HANS PETER', 'male'),\n ('JASBIR', 'male'),\n ('ANICETA', 'female'),\n ('TABATA', 'female'),\n ('USUE', 'female'),\n ('DIANA GUADALUPE', 'female'),\n ('CASTORINA', 'female'),\n ('XINYU', 'female'),\n ('BRIANA', 'female'),\n ('HUGO ESTEBAN', 'male'),\n ('KARINA VIVIANA', 'female'),\n ('LAURA GISELA', 'female'),\n ('EDGAR OSWALDO', 'male'),\n ('LUCILLE', 'female'),\n ('TOSHKO', 'male'),\n ('JACINTO ANDRES', 'male'),\n ('MARIANA JESUS', 'female'),\n ('NATIVIDAD REYES', 'female'),\n ('ARIADNA VALENTINA', 'female'),\n ('PEDRO BENJAMIN', 'male'),\n ('MONIQUE MARIA', 'female'),\n ('RITA VICTORIA', 'female'),\n ('OSCAR RENE', 'male'),\n ('JESUS JERONIMO', 'male'),\n ('ZAHEER', 'male'),\n ('RITA PILAR', 'female'),\n ('EMMANUELLE', 'female'),\n ('JOSU MIKEL', 'male'),\n ('MIRCEA NICOLAE', 'male'),\n ('JOSE ARCADIO', 'male'),\n ('MARCELI', 'male'),\n ('JEAN', 'male'),\n ('SERGIO MIGUEL', 'male'),\n ('MAKHA', 'male'),\n ('BOYKA', 'female'),\n ('NICOLAS FEDERICO', 'male'),\n ('DANIEL OVIDIU', 'male'),\n ('ANGELA NARCISA', 'female'),\n ('MARCO AUGUSTO', 'male'),\n ('ADRIANA MARIA', 'female'),\n ('CHUNLAN', 'female'),\n ('PABLO RAFAEL', 'male'),\n ('VICTOR JUAN', 'male'),\n ('KATHERINE CARMEN', 'female'),\n ('ELIA', 'female'),\n ('SERAFIN ANGEL', 'male'),\n ('LYNN', 'female'),\n ('ZOYA', 'female'),\n ('ANA LUISA', 'female'),\n ('HUGO GABRIEL', 'male'),\n ('DARJA', 'female'),\n ('JENNIFER LOUISE', 'female'),\n ('PATRICIA EMILIA', 'female'),\n ('FRANCISCA LEONOR', 'female'),\n ('NEIDA', 'female'),\n ('AITZ', 'male'),\n ('STEFAN IULIAN', 'male'),\n ('ERIDANIA', 'female'),\n ('ALPHOUSSEYNI', 'male'),\n ('VICTOR OMAR', 'male'),\n ('SALUD MARIA', 'female'),\n ('CELENE', 'female'),\n ('DEMETRIO JOSE', 'male'),\n ('HUGO GERMAN', 'male'),\n ('NICOLAE DANIEL', 'male'),\n ('GENESIS DAYANA', 'female'),\n ('YARET', 'female'),\n ('JARA', 'female'),\n ('YUNFENG', 'male'),\n ('PATRICIA JULIA', 'female'),\n ('ANGEL EFREN', 'male'),\n ('ANTONIA NIEVES', 'female'),\n ('DANIEL MARK', 'male'),\n ('JOELLE', 'female'),\n ('IBRAHIMA SORY', 'male'),\n ('ANDRESSA', 'female'),\n ('JHONATAN JAVIER', 'male'),\n ('JOSE BRUNO', 'male'),\n ('ELENA SORINA', 'female'),\n ('JOVITA', 'female'),\n ('EMILIO RAFAEL', 'male'),\n ('ADRIAN VIOREL', 'male'),\n ('BRISA', 'female'),\n ('LIN', 'female'),\n ('PANFILO', 'male'),\n ('MARIA REMEI', 'female'),\n ('OLGA VERONICA', 'female'),\n ('VANESA ALEXANDRA', 'female'),\n ('NESTOR ANDRES', 'male'),\n ('JMIAA', 'female'),\n ('DUMITRU CIPRIAN', 'male'),\n ('CRINA ELENA', 'female'),\n ('ANA GUILLERMINA', 'female'),\n ('ERITZ', 'male'),\n ('IGNACIO ALFREDO', 'male'),\n ('SARA MARIA', 'female'),\n ('YVONE', 'female'),\n ('FRANCISCO LAUREANO', 'male'),\n ('VERONICA ADRIANA', 'female'),\n ('PARASCHIVA', 'female'),\n ('HAJNAL', 'female'),\n ('IBONE', 'female'),\n ('JOSE LEON', 'male'),\n ('YEMINA', 'female'),\n ('FATEN', 'female'),\n ('MIKAEL', 'male'),\n ('ELISA ANA', 'female'),\n ('OSAMA', 'male'),\n ('OLIVER ALEJANDRO', 'male'),\n ('ELVIRA JESUS', 'female'),\n ('JEFFERY', 'male'),\n ('BASMA', 'female'),\n ('NESTOR ANGEL', 'male'),\n ('KANZA', 'female'),\n ('RICARDAS', 'male'),\n ('LORENZO SALVADOR', 'male'),\n ('JUANA LAURA', 'female'),\n ('JUAN XAVIER', 'male'),\n ('THAIS MARIA', 'female'),\n ('VICENTE PAUL', 'male'),\n ('OIANE', 'female'),\n ('MARIA PILAR MILAGROS', 'female'),\n ('FAUSTINO JESUS', 'male'),\n ('CRISTIAN ORLANDO', 'male'),\n ('LAZARO ALBERTO', 'male'),\n ('LUZ ELIANA', 'female'),\n ('ANDRES SANTOS', 'male'),\n ('MARIA ISABEL CONCEPC', 'female'),\n ('ARTIOM', 'male'),\n ('SLOBODAN', 'male'),\n ('ROCIO ESPERANZA', 'female'),\n ('RENAN', 'male'),\n ('MARIA TERESA LUCIA', 'female'),\n ('RICARDO ALEXANDER', 'male'),\n ('JOVITA MARIA', 'female'),\n ('NEREIDA MARIA', 'female'),\n ('VIRGINIO', 'male'),\n ('ANA NATIVIDAD', 'female'),\n ('NAEL', 'male'),\n ('SOLEDAD MARIA', 'female'),\n ('GEGHAM', 'male'),\n ('CANDIDO JESUS', 'male'),\n ('MARCOS EMILIO', 'male'),\n ('ANGEL CARLOS', 'male'),\n ('YANFANG', 'female'),\n ('AGUSTIN JULIAN', 'male'),\n ('JOAN JOAQUIM', 'male'),\n ('IAN WILLIAM', 'male'),\n ('ULISES', 'male'),\n ('KAMLA', 'female'),\n ('MARIA ZUNILDA', 'female'),\n ('ROHAN', 'male'),\n ('FELIX ALEXANDER', 'male'),\n ('OUMAIMA', 'female'),\n ('ZHAO', 'female'),\n ('MARIA FATIMA', 'female'),\n ('LUISA BELEN', 'female'),\n ('SONIA TERESA', 'female'),\n ('JORGE FELIX', 'male'),\n ...]"
     },
     "execution_count": 8,
     "metadata": {},
     "output_type": "execute_result"
    }
   ],
   "source": [
    "random.shuffle(tagsetE)\n",
    "tagsetE"
   ]
  },
  {
   "cell_type": "code",
   "execution_count": 9,
   "metadata": {},
   "outputs": [
    {
     "data": {
      "text/plain": "{'primera_letra': 'd',\n 'ultima_letra': 'l',\n 'palabras': 2,\n 'primera_letra(0)': 'd',\n 'ultima_letra(0)': 'a',\n 'primera_letra(1)': 'm',\n 'ultima_letra(1)': 'l'}"
     },
     "execution_count": 9,
     "metadata": {},
     "output_type": "execute_result"
    }
   ],
   "source": [
    "atributos_esp('DIANA MARISOL')"
   ]
  },
  {
   "cell_type": "code",
   "execution_count": 10,
   "metadata": {},
   "outputs": [
    {
     "data": {
      "text/plain": "{'primera_letra': 'v',\n 'ultima_letra': 'a',\n 'palabras': 1,\n 'primera_letra(0)': 'v',\n 'ultima_letra(0)': 'a'}"
     },
     "execution_count": 10,
     "metadata": {},
     "output_type": "execute_result"
    }
   ],
   "source": [
    "atributos_esp('VASILKA')"
   ]
  },
  {
   "cell_type": "markdown",
   "metadata": {
    "id": "KuY1Ux30F9uZ"
   },
   "source": [
    "2. **Entrenamiento y performance del modelo**: usando el classificador de Naive Bayes de NLTK entrena un modelo sencillo usando el mismo feature de la última letra del nombre, prueba algunas predicciones y calcula el performance del modelo. "
   ]
  },
  {
   "cell_type": "code",
   "execution_count": 11,
   "metadata": {
    "id": "CvHwHTS8GT9I"
   },
   "outputs": [
    {
     "name": "stdout",
     "output_type": "stream",
     "text": [
      "39340\n",
      "10000\n"
     ]
    }
   ],
   "source": [
    "# escribe tu código aquí\n",
    "fsetE1 = [(atributos(n), g) for (n, g) in tagsetE]\n",
    "trainE1, testE1 = fsetE1[10000:], fsetE1[:10000]\n",
    "print(len(trainE1))\n",
    "print(len(testE1))"
   ]
  },
  {
   "cell_type": "code",
   "execution_count": 12,
   "metadata": {},
   "outputs": [
    {
     "name": "stdout",
     "output_type": "stream",
     "text": [
      "0.7885866802236909\n",
      "0.7931\n"
     ]
    }
   ],
   "source": [
    "classifierE1 = nltk.NaiveBayesClassifier.train(trainE1)\n",
    "print(nltk.classify.accuracy(classifierE1, trainE1))\n",
    "print(nltk.classify.accuracy(classifierE1, testE1))"
   ]
  },
  {
   "cell_type": "code",
   "execution_count": 13,
   "metadata": {},
   "outputs": [],
   "source": [
    "fsetE2 = [(mas_atributos(n), g) for (n, g) in tagsetE]\n",
    "trainE2, testE2 = fsetE2[10000:], fsetE2[:10000]"
   ]
  },
  {
   "cell_type": "code",
   "execution_count": 14,
   "metadata": {},
   "outputs": [
    {
     "name": "stdout",
     "output_type": "stream",
     "text": [
      "0.8005338078291815\n",
      "0.798\n"
     ]
    }
   ],
   "source": [
    "classifierE2 = nltk.NaiveBayesClassifier.train(trainE2)\n",
    "print(nltk.classify.accuracy(classifierE2, trainE2))\n",
    "print(nltk.classify.accuracy(classifierE2, testE2))"
   ]
  },
  {
   "cell_type": "markdown",
   "metadata": {
    "id": "f4a2jv85GXA_"
   },
   "source": [
    "3. **Mejores atributos:** Define una función como `atributos_esp()` donde puedas extraer mejores atributos con los cuales entrenar una mejor version del clasificador. Haz un segundo entrenamiento y verifica como mejora el performance de tu modelo. ¿Se te ocurren mejores maneras de definir atributos para esta tarea particular?"
   ]
  },
  {
   "cell_type": "code",
   "execution_count": 15,
   "metadata": {
    "id": "9G-E5_CXIQiO"
   },
   "outputs": [
    {
     "name": "stdout",
     "output_type": "stream",
     "text": [
      "39340\n",
      "10000\n"
     ]
    }
   ],
   "source": [
    "fsetE3 = [(atributos_esp(n), g) for (n, g) in tagsetE]\n",
    "trainE3, testE3 = fsetE3[10000:], fsetE3[:10000]\n",
    "print(len(trainE3))\n",
    "print(len(testE3))"
   ]
  },
  {
   "cell_type": "code",
   "execution_count": 16,
   "metadata": {},
   "outputs": [
    {
     "name": "stdout",
     "output_type": "stream",
     "text": [
      "0.8629384850025419\n",
      "0.8681\n"
     ]
    }
   ],
   "source": [
    "classifierE3 = nltk.NaiveBayesClassifier.train(trainE3)\n",
    "print(nltk.classify.accuracy(classifierE3, trainE3))\n",
    "print(nltk.classify.accuracy(classifierE3, testE3))"
   ]
  }
 ],
 "metadata": {
  "colab": {
   "name": "[Lecture_19/20]Modelos_clasificacion.ipynb",
   "provenance": []
  },
  "kernelspec": {
   "display_name": "Python 3",
   "language": "python",
   "name": "python3"
  },
  "language_info": {
   "codemirror_mode": {
    "name": "ipython",
    "version": 3
   },
   "file_extension": ".py",
   "mimetype": "text/x-python",
   "name": "python",
   "nbconvert_exporter": "python",
   "pygments_lexer": "ipython3",
   "version": "3.7.2"
  }
 },
 "nbformat": 4,
 "nbformat_minor": 1
}