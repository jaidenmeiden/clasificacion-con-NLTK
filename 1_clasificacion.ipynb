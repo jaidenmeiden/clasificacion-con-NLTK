{
 "cells": [
  {
   "cell_type": "markdown",
   "metadata": {
    "id": "6YTaQq9dCh0E"
   },
   "source": [
    "# Clasificación de palabras (por género de nombre)"
   ]
  },
  {
   "cell_type": "code",
   "execution_count": 9,
   "metadata": {
    "colab": {
     "base_uri": "https://localhost:8080/",
     "height": 49
    },
    "id": "5co_TuOhC4ze",
    "outputId": "6ed198ee-9cb9-48b9-ab74-db9655585c0e"
   },
   "outputs": [
    {
     "name": "stderr",
     "output_type": "stream",
     "text": [
      "[nltk_data] Downloading package names to /home/oem/nltk_data...\n",
      "[nltk_data]   Package names is already up-to-date!\n"
     ]
    }
   ],
   "source": [
    "import nltk, random\n",
    "nltk.download('names')\n",
    "from nltk.corpus import names "
   ]
  },
  {
   "cell_type": "markdown",
   "metadata": {
    "id": "ijhsE2PBFYxm"
   },
   "source": [
    "**Función básica de extracción de atributos**\n",
    "\n",
    "Creamos una función donde nos devuelve unicamente la última letra de cada palabra"
   ]
  },
  {
   "cell_type": "code",
   "execution_count": 10,
   "metadata": {
    "id": "b0kKV62lCZ55"
   },
   "outputs": [],
   "source": [
    "# definición de atributos relevantes\n",
    "def atributos(palabra):\n",
    "    return {'Ultima letra': palabra[-1]}"
   ]
  },
  {
   "cell_type": "markdown",
   "metadata": {
    "id": "ijhsE2PBFYxm"
   },
   "source": [
    "Unimos la lista de nombres **masculinos** y **femeninos** en una lista de tuplas"
   ]
  },
  {
   "cell_type": "code",
   "execution_count": 11,
   "metadata": {},
   "outputs": [
    {
     "data": {
      "text/plain": [
       "7944"
      ]
     },
     "execution_count": 11,
     "metadata": {},
     "output_type": "execute_result"
    }
   ],
   "source": [
    "tagset = [(name, 'male') for name in names.words('male.txt')] + [(name, 'female') for name in names.words('female.txt')]\n",
    "len(tagset)"
   ]
  },
  {
   "cell_type": "markdown",
   "metadata": {
    "id": "ijhsE2PBFYxm"
   },
   "source": [
    "Hacemos que la lista sea distribuida aleatoriamente para evitar el sesgo, ya que la lista de nombres masculinos queda primero que la lista de nombres femeninos."
   ]
  },
  {
   "cell_type": "code",
   "execution_count": 12,
   "metadata": {
    "colab": {
     "base_uri": "https://localhost:8080/",
     "height": 181
    },
    "id": "IjfK5ZKwDL__",
    "outputId": "fef1000d-e474-43f0-986d-10b721946e59"
   },
   "outputs": [
    {
     "data": {
      "text/plain": [
       "[('Henry', 'male'),\n",
       " ('Shani', 'female'),\n",
       " ('Ichabod', 'male'),\n",
       " ('Ferdy', 'male'),\n",
       " ('Saxe', 'male'),\n",
       " ('Federico', 'male'),\n",
       " ('Asia', 'female'),\n",
       " ('Coralie', 'female'),\n",
       " ('Bettye', 'female'),\n",
       " ('Giffer', 'male')]"
      ]
     },
     "execution_count": 12,
     "metadata": {},
     "output_type": "execute_result"
    }
   ],
   "source": [
    "random.shuffle(tagset)\n",
    "tagset[:10]"
   ]
  },
  {
   "cell_type": "markdown",
   "metadata": {
    "id": "ijhsE2PBFYxm"
   },
   "source": [
    "Creo una segunda lista de atributos, ya que nuestro modelo NO lee los nombres, sino los atributos de los nombres."
   ]
  },
  {
   "cell_type": "code",
   "execution_count": 13,
   "metadata": {
    "colab": {
     "base_uri": "https://localhost:8080/",
     "height": 181
    },
    "id": "jZcAN-dmCrok",
    "outputId": "b114852f-8e71-4121-fda3-21bb731353b4"
   },
   "outputs": [],
   "source": [
    "fset1 = [(atributos(n), g) for (n, g) in tagset]"
   ]
  },
  {
   "cell_type": "markdown",
   "metadata": {
    "id": "ijhsE2PBFYxm"
   },
   "source": [
    "Divido el dataset en los conjuntos de entrenamiento y pruebas"
   ]
  },
  {
   "cell_type": "code",
   "execution_count": 14,
   "metadata": {
    "id": "QzK97C8BDmHR"
   },
   "outputs": [
    {
     "name": "stdout",
     "output_type": "stream",
     "text": [
      "5944\n",
      "2000\n"
     ]
    }
   ],
   "source": [
    "train1, test1 = fset1[2000:], fset1[:2000]\n",
    "print(len(train1))\n",
    "print(len(test1))"
   ]
  },
  {
   "cell_type": "markdown",
   "metadata": {
    "id": "qQPv0tW4Fd2G"
   },
   "source": [
    "**Modelo de clasificación Naive Bayes**"
   ]
  },
  {
   "cell_type": "code",
   "execution_count": 15,
   "metadata": {
    "id": "37jueg4nDQFs"
   },
   "outputs": [],
   "source": [
    "# entrenamiento del modelo NaiveBayes\n",
    "classifier = nltk.NaiveBayesClassifier.train(train)"
   ]
  },
  {
   "cell_type": "markdown",
   "metadata": {
    "id": "BAWfUSHrEj3q"
   },
   "source": [
    " **Verificación de algunas predicciones**"
   ]
  },
  {
   "cell_type": "code",
   "execution_count": 16,
   "metadata": {
    "colab": {
     "base_uri": "https://localhost:8080/",
     "height": 34
    },
    "id": "Mr8ytm8SEEZk",
    "outputId": "cf62ff8a-2722-4331-bf70-66aafff1d9e8"
   },
   "outputs": [
    {
     "data": {
      "text/plain": [
       "'female'"
      ]
     },
     "execution_count": 16,
     "metadata": {},
     "output_type": "execute_result"
    }
   ],
   "source": [
    "classifier.classify(atributos('amanda'))"
   ]
  },
  {
   "cell_type": "code",
   "execution_count": 17,
   "metadata": {
    "colab": {
     "base_uri": "https://localhost:8080/",
     "height": 34
    },
    "id": "c0GG1Y1_EPaO",
    "outputId": "6f286792-7845-44f8-b22b-1cf6815036a9"
   },
   "outputs": [
    {
     "data": {
      "text/plain": [
       "'male'"
      ]
     },
     "execution_count": 17,
     "metadata": {},
     "output_type": "execute_result"
    }
   ],
   "source": [
    "classifier.classify(atributos('peter'))"
   ]
  },
  {
   "cell_type": "markdown",
   "metadata": {
    "id": "XSUK14XhEqLL"
   },
   "source": [
    "**Performance del modelo**"
   ]
  },
  {
   "cell_type": "code",
   "execution_count": 41,
   "metadata": {
    "colab": {
     "base_uri": "https://localhost:8080/",
     "height": 32
    },
    "id": "p5S9qeCgsJSg",
    "outputId": "6339e65d-d66e-4c96-9053-ea70d0abdea7"
   },
   "outputs": [
    {
     "name": "stdout",
     "output_type": "stream",
     "text": [
      "0.7617765814266487\n"
     ]
    }
   ],
   "source": [
    "print(nltk.classify.accuracy(classifier, train))"
   ]
  },
  {
   "cell_type": "code",
   "execution_count": 42,
   "metadata": {
    "colab": {
     "base_uri": "https://localhost:8080/",
     "height": 32
    },
    "id": "lenwC5agEdvT",
    "outputId": "1ceb5e52-4db6-4c5f-c714-dbf72f90e652"
   },
   "outputs": [
    {
     "name": "stdout",
     "output_type": "stream",
     "text": [
      "0.766\n"
     ]
    }
   ],
   "source": [
    "print(nltk.classify.accuracy(classifier, test))"
   ]
  },
  {
   "cell_type": "markdown",
   "metadata": {
    "id": "aSNI7OFxGib0"
   },
   "source": [
    "**Mejores atributos**\n",
    "\n",
    "Los atributos se almacenan en un diccionario. Creo una función de atributos completamente personalizada (Hay que recordar que no hay un protocolo establecido para definir atributos).\n",
    "\n",
    "Para este caso:\n",
    "* Atributo 1: La primera letra de la palabra\n",
    "* Atributo 2: La última letra de la palabra\n",
    "* Atributo 3: Cuantas veces aparece una letra del alfabeto en la palabra\n",
    "* Atributo 4: Si el alfabeto tiene o no tiene una letra del alfabeto"
   ]
  },
  {
   "cell_type": "code",
   "execution_count": 34,
   "metadata": {
    "id": "k5uaIAdDGlq8"
   },
   "outputs": [],
   "source": [
    "def mas_atributos(nombre):\n",
    "    atributos = {}\n",
    "    atributos[\"primera_letra\"] = nombre[0].lower()\n",
    "    atributos[\"ultima_letra\"] = nombre[-1].lower()\n",
    "    for letra in 'abcdefghijklmnopqrstuvwxyz':\n",
    "        atributos[\"count({})\".format(letra)] = nombre.lower().count(letra)\n",
    "        atributos[\"has({})\".format(letra)] = (letra in nombre.lower())\n",
    "    return atributos"
   ]
  },
  {
   "cell_type": "code",
   "execution_count": 35,
   "metadata": {
    "id": "6-gJIxKcHKvI"
   },
   "outputs": [
    {
     "data": {
      "text/plain": [
       "{'primera_letra': 'j',\n",
       " 'ultima_letra': 'n',\n",
       " 'count(a)': 0,\n",
       " 'has(a)': False,\n",
       " 'count(b)': 0,\n",
       " 'has(b)': False,\n",
       " 'count(c)': 0,\n",
       " 'has(c)': False,\n",
       " 'count(d)': 0,\n",
       " 'has(d)': False,\n",
       " 'count(e)': 0,\n",
       " 'has(e)': False,\n",
       " 'count(f)': 0,\n",
       " 'has(f)': False,\n",
       " 'count(g)': 0,\n",
       " 'has(g)': False,\n",
       " 'count(h)': 1,\n",
       " 'has(h)': True,\n",
       " 'count(i)': 0,\n",
       " 'has(i)': False,\n",
       " 'count(j)': 1,\n",
       " 'has(j)': True,\n",
       " 'count(k)': 0,\n",
       " 'has(k)': False,\n",
       " 'count(l)': 0,\n",
       " 'has(l)': False,\n",
       " 'count(m)': 0,\n",
       " 'has(m)': False,\n",
       " 'count(n)': 1,\n",
       " 'has(n)': True,\n",
       " 'count(o)': 1,\n",
       " 'has(o)': True,\n",
       " 'count(p)': 0,\n",
       " 'has(p)': False,\n",
       " 'count(q)': 0,\n",
       " 'has(q)': False,\n",
       " 'count(r)': 0,\n",
       " 'has(r)': False,\n",
       " 'count(s)': 0,\n",
       " 'has(s)': False,\n",
       " 'count(t)': 0,\n",
       " 'has(t)': False,\n",
       " 'count(u)': 0,\n",
       " 'has(u)': False,\n",
       " 'count(v)': 0,\n",
       " 'has(v)': False,\n",
       " 'count(w)': 0,\n",
       " 'has(w)': False,\n",
       " 'count(x)': 0,\n",
       " 'has(x)': False,\n",
       " 'count(y)': 0,\n",
       " 'has(y)': False,\n",
       " 'count(z)': 0,\n",
       " 'has(z)': False}"
      ]
     },
     "execution_count": 35,
     "metadata": {},
     "output_type": "execute_result"
    }
   ],
   "source": [
    "mas_atributos('jhon')"
   ]
  },
  {
   "cell_type": "code",
   "execution_count": 36,
   "metadata": {
    "id": "FBu25HHgHQtK"
   },
   "outputs": [],
   "source": [
    "fset2 = [(mas_atributos(n), g) for (n, g) in tagset]\n",
    "train2, test2 = fset2[2000:], fset2[:2000]"
   ]
  },
  {
   "cell_type": "code",
   "execution_count": 37,
   "metadata": {},
   "outputs": [],
   "source": [
    "classifier2 = nltk.NaiveBayesClassifier.train(train2)"
   ]
  },
  {
   "cell_type": "code",
   "execution_count": 39,
   "metadata": {},
   "outputs": [
    {
     "name": "stdout",
     "output_type": "stream",
     "text": [
      "0.7792732166890982\n"
     ]
    }
   ],
   "source": [
    "print(nltk.classify.accuracy(classifier2, train2))"
   ]
  },
  {
   "cell_type": "code",
   "execution_count": 40,
   "metadata": {
    "colab": {
     "base_uri": "https://localhost:8080/",
     "height": 32
    },
    "id": "8hWR9hOzHlNe",
    "outputId": "97d5f514-dfd5-474a-8755-4127a7bcb8dc"
   },
   "outputs": [
    {
     "name": "stdout",
     "output_type": "stream",
     "text": [
      "0.772\n"
     ]
    }
   ],
   "source": [
    "print(nltk.classify.accuracy(classifier2, test2))"
   ]
  },
  {
   "cell_type": "markdown",
   "metadata": {
    "id": "rT7mmVnvFAcm"
   },
   "source": [
    "### Ejercicio de práctica\n",
    "\n",
    "**Objetivo:** Construye un classificador de nombres en español usando el siguiente dataset: \n",
    "https://github.com/jvalhondo/spanish-names-surnames"
   ]
  },
  {
   "cell_type": "markdown",
   "metadata": {
    "id": "NphJqahkFnjO"
   },
   "source": [
    "1. **Preparación de los datos**: con un `git clone` puedes traer el dataset indicado a tu directorio en Colab, luego asegurate de darle el formato adecuado a los datos y sus features para que tenga la misma estructura del ejemplo anterior con el dataset `names` de nombres en ingles. \n",
    "\n",
    "* **Piensa y analiza**: ¿los features en ingles aplican de la misma manera para los nombres en español?"
   ]
  },
  {
   "cell_type": "code",
   "execution_count": 43,
   "metadata": {
    "id": "OhbOT6_zFGHM"
   },
   "outputs": [
    {
     "name": "stdout",
     "output_type": "stream",
     "text": [
      "Clonando en 'spanish-names-surnames'...\n",
      "remote: Enumerating objects: 36, done.\u001B[K\n",
      "remote: Total 36 (delta 0), reused 0 (delta 0), pack-reused 36\u001B[K\n",
      "Desempaquetando objetos: 100% (36/36), listo.\n"
     ]
    }
   ],
   "source": [
    "!git clone https://github.com/jvalhondo/spanish-names-surnames"
   ]
  },
  {
   "cell_type": "code",
   "execution_count": 99,
   "metadata": {
    "pycharm": {
     "name": "#%%\n"
    }
   },
   "outputs": [],
   "source": [
    "def atributos_esp(nombre):\n",
    "    atributos = {}\n",
    "    atributos[\"primera_letra\"] = nombre[0].lower()\n",
    "    atributos[\"ultima_letra\"] = nombre[-1].lower() #Ultima letra\n",
    "    #atributos[\"ultimas_cinco_letras\"] = nombre[-5:].lower() #ultimas 5 letras\n",
    "    atributos[\"palabras\"] = len(nombre.split(\" \")) #Cuantas palabras tiene el nombre\n",
    "    for i, palabra in enumerate(nombre.split(\" \")):\n",
    "        atributos[\"primera_letra({})\".format(i)] = palabra[0].lower()\n",
    "        atributos[\"ultima_letra({})\".format(i)] = palabra[-1].lower()\n",
    "    return atributos"
   ]
  },
  {
   "cell_type": "code",
   "execution_count": 83,
   "metadata": {},
   "outputs": [],
   "source": [
    "tag_men = np.genfromtxt('spanish-names-surnames/male_names.csv', skip_header=1, delimiter=',', dtype=('U20','i8','f8'))\n",
    "tag_women = np.genfromtxt('spanish-names-surnames/female_names.csv', skip_header=1, delimiter=',', dtype=('U20','i8','f8'))"
   ]
  },
  {
   "cell_type": "code",
   "execution_count": 84,
   "metadata": {
    "pycharm": {
     "name": "#%%\n"
    }
   },
   "outputs": [
    {
     "data": {
      "text/plain": [
       "49340"
      ]
     },
     "execution_count": 84,
     "metadata": {},
     "output_type": "execute_result"
    }
   ],
   "source": [
    "tagsetE = [(name[0], 'male') for name in tag_men] + [(name[0], 'female') for name in tag_women]\n",
    "len(tagsetE)"
   ]
  },
  {
   "cell_type": "code",
   "execution_count": 85,
   "metadata": {},
   "outputs": [
    {
     "data": {
      "text/plain": [
       "[('BARBARA CARMEN', 'female'),\n",
       " ('GHEORGHE MIRCEA', 'male'),\n",
       " ('RAFAEL DANIEL', 'male'),\n",
       " ('ANNETT', 'female'),\n",
       " ('IRINEO', 'male'),\n",
       " ('FERNANDO ANTONIO', 'male'),\n",
       " ('ESTEFANIA VICTORIA', 'female'),\n",
       " ('SOPHIE ANNE', 'female'),\n",
       " ('DIGNA EMERITA', 'female'),\n",
       " ('MARIA ERICA', 'female'),\n",
       " ('GUSTAVO SERGIO', 'male'),\n",
       " ('EL HOUCINE', 'male'),\n",
       " ('AMIN', 'male'),\n",
       " ('GABRIEL GUILLERMO', 'male'),\n",
       " ('ANTONIA GABRIELA', 'female'),\n",
       " ('DARIUS ALEXANDRU', 'male'),\n",
       " ('CARLOS SEBASTIAN', 'male'),\n",
       " ('VICTOR LEONARDO', 'male'),\n",
       " ('ZORA', 'female'),\n",
       " ('RUTA', 'female'),\n",
       " ('FIRDAUS', 'female'),\n",
       " ('SERGIO CESAR', 'male'),\n",
       " ('FRANCISCA ANGELA', 'female'),\n",
       " ('JAVIER ANIBAL', 'male'),\n",
       " ('OMAR ANTONIO', 'male'),\n",
       " ('MARIA EVELYN', 'female'),\n",
       " ('YAIZA ESTHER', 'female'),\n",
       " ('PRECIOUS', 'female'),\n",
       " ('ION ANDONI', 'male'),\n",
       " ('SOFIA', 'female'),\n",
       " ('DULCE', 'female'),\n",
       " ('SVETLA', 'female'),\n",
       " ('IRENE LAURA', 'female'),\n",
       " ('VICTOR ESTEBAN', 'male'),\n",
       " ('YALILE', 'female'),\n",
       " ('CELIA ELENA', 'female'),\n",
       " ('DAVOR', 'male'),\n",
       " ('DANAI', 'female'),\n",
       " ('ANA TULIA', 'female'),\n",
       " ('DIEGO GASTON', 'male'),\n",
       " ('AMANPREET', 'female'),\n",
       " ('CAMILO JESUS', 'male'),\n",
       " ('AINHOA MARIA', 'female'),\n",
       " ('VENANCIO', 'male'),\n",
       " ('HRISTIYANA', 'female'),\n",
       " ('EL KHADIR', 'male'),\n",
       " ('MARIA MARTIRES', 'female'),\n",
       " ('CHRISTIAN JONATHAN', 'male'),\n",
       " ('ALAN ROY', 'male'),\n",
       " ('VAHAN', 'male'),\n",
       " ('ALASSANE', 'male'),\n",
       " ('IVAN NICOLAS', 'male'),\n",
       " ('ARTURO RICARDO', 'male'),\n",
       " ('ALEXANDRA GEORGIANA', 'female'),\n",
       " ('CITA', 'female'),\n",
       " ('MARIA VITORIA', 'female'),\n",
       " ('MENTXU', 'female'),\n",
       " ('LEANDRO FRANCISCO', 'male'),\n",
       " ('ZURAB', 'male'),\n",
       " ('DANNY PATRICIO', 'male'),\n",
       " ('ROSARIO GLORIA', 'female'),\n",
       " ('ISABEL JOSE', 'female'),\n",
       " ('MARIA CUEVA SANTA', 'female'),\n",
       " ('MARJORIE ALEXANDRA', 'female'),\n",
       " ('JUN', 'male'),\n",
       " ('FELIPE RAFAEL', 'male'),\n",
       " ('GONZALO DOMINGO', 'male'),\n",
       " ('MARIA CONSOL', 'female'),\n",
       " ('SADA', 'male'),\n",
       " ('MARIA TERESA JESUS', 'female'),\n",
       " ('GURDIP', 'male'),\n",
       " ('JOSE ECHEDEY', 'male'),\n",
       " ('RAMIRO MIGUEL', 'male'),\n",
       " ('COLETTE', 'female'),\n",
       " ('MARIA LUCIANA', 'female'),\n",
       " ('JIAQING', 'male'),\n",
       " ('LUZ ASTRID', 'female'),\n",
       " ('JUNWEI', 'male'),\n",
       " ('CANDIDA CONCEPCION', 'female'),\n",
       " ('ENRIQUETA ISABEL', 'female'),\n",
       " ('ERICK ALEJANDRO', 'male'),\n",
       " ('CHIVUTA', 'female'),\n",
       " ('POMPEU', 'male'),\n",
       " ('FRANKLYN', 'male'),\n",
       " ('ALEJANDRO JOAQUIN', 'male'),\n",
       " ('MARIA TERESA ANTONIA', 'female'),\n",
       " ('JACK WILLIAM', 'male'),\n",
       " ('MALVA', 'female'),\n",
       " ('MARIA HERMESINDA', 'female'),\n",
       " ('NEUSA MARIA', 'female'),\n",
       " ('JAKUB', 'male'),\n",
       " ('DANIEL PETRU', 'male'),\n",
       " ('TERESA SOLEDAD', 'female'),\n",
       " ('GREGORIA', 'female'),\n",
       " ('PRAKASH', 'male'),\n",
       " ('VANESSA CRISTINA', 'female'),\n",
       " ('ALEJANDRO EDUARDO', 'male'),\n",
       " ('AGUSTIN FELIPE', 'male'),\n",
       " ('SAMAI', 'female'),\n",
       " ('LARA VICTORIA', 'female'),\n",
       " ('ANA MARIE', 'female'),\n",
       " ('MARTA NATIVIDAD', 'female'),\n",
       " ('TAMARA ROCIO', 'female'),\n",
       " ('BLAY', 'male'),\n",
       " ('JOAQUIN FELIPE', 'male'),\n",
       " ('ALEJANDRO TOMAS', 'male'),\n",
       " ('LUCIA DOLORES', 'female'),\n",
       " ('ANA SIMONA', 'female'),\n",
       " ('FRANCISCA ALEJANDRA', 'female'),\n",
       " ('JESUS TEODORO', 'male'),\n",
       " ('ANA LYDIA', 'female'),\n",
       " ('MARIO DENIS', 'male'),\n",
       " ('TERESA CANDELARIA', 'female'),\n",
       " ('ARTEM', 'male'),\n",
       " ('EDUARDO OSCAR', 'male'),\n",
       " ('ANTONIO CESAREO', 'male'),\n",
       " ('NICUTA', 'female'),\n",
       " ('MARIA FUENSANTA', 'female'),\n",
       " ('RICARDO SALVADOR', 'male'),\n",
       " ('PETER GRAHAM', 'male'),\n",
       " ('RICARDO IGNACIO', 'male'),\n",
       " ('ANDREI VASILE', 'male'),\n",
       " ('CRISTINA VALERIA', 'female'),\n",
       " ('XOEL', 'male'),\n",
       " ('RACHED', 'male'),\n",
       " ('SUAD', 'female'),\n",
       " ('HECTOR ELIAS', 'male'),\n",
       " ('LORENZO NICOLAS', 'male'),\n",
       " ('CASTOR MANUEL', 'male'),\n",
       " ('JOSE DIMAS', 'male'),\n",
       " ('GANNA', 'female'),\n",
       " ('CAROLINA INMACULADA', 'female'),\n",
       " ('RENZO', 'male'),\n",
       " ('SILVIA LUZ', 'female'),\n",
       " ('JULIAN ISIDRO', 'male'),\n",
       " ('RUBEN EMANUEL', 'male'),\n",
       " ('LUISA MAR', 'female'),\n",
       " ('BRENDA LIZETH', 'female'),\n",
       " ('ANGELO DAVID', 'male'),\n",
       " ('SEEDY', 'male'),\n",
       " ('AMOS', 'male'),\n",
       " ('VASYL', 'male'),\n",
       " ('CHRISTIAN VICENTE', 'male'),\n",
       " ('JOSE EDGAR', 'male'),\n",
       " ('JOSEP ENRIC', 'male'),\n",
       " ('BALBINA MARIA', 'female'),\n",
       " ('JUAN AGUSTIN', 'male'),\n",
       " ('MONICA DANIELA', 'female'),\n",
       " ('DIEGO TOMAS', 'male'),\n",
       " ('ABDESSADEK', 'male'),\n",
       " ('MERCENARIO', 'male'),\n",
       " ('MARTA LOURDES', 'female'),\n",
       " ('VICTOR GERARDO', 'male'),\n",
       " ('MARCOS JOSE', 'male'),\n",
       " ('MARIUS GEORGE', 'male'),\n",
       " ('ROSA PINO', 'female'),\n",
       " ('VALENTINA ALEJANDRA', 'female'),\n",
       " ('CRISTIAN RUBEN', 'male'),\n",
       " ('ELENA CONSUELO', 'female'),\n",
       " ('BOGDAN COSMIN', 'male'),\n",
       " ('LIVIU VASILE', 'male'),\n",
       " ('NAYADE', 'female'),\n",
       " ('JULIO GUILLERMO', 'male'),\n",
       " ('JULIA ARACELI', 'female'),\n",
       " ('ROSA FELICIDAD', 'female'),\n",
       " ('JULIA ELIZABETH', 'female'),\n",
       " ('PATRICIA LILIAN', 'female'),\n",
       " ('MARTHA CONSUELO', 'female'),\n",
       " ('IVAN MANUEL', 'male'),\n",
       " ('ALEJANDRO LUIS', 'male'),\n",
       " ('BELMIRO', 'male'),\n",
       " ('ANTONIO JOEL', 'male'),\n",
       " ('EL FADIL', 'male'),\n",
       " ('MERCEDES LUISA', 'female'),\n",
       " ('MICHELLE DAYANA', 'female'),\n",
       " ('MARINA MERCEDES', 'female'),\n",
       " ('JOSE ROGER', 'male'),\n",
       " ('JENEL', 'male'),\n",
       " ('NURIA MONTSERRAT', 'female'),\n",
       " ('MARIA TRINIDAD', 'female'),\n",
       " ('AINA ISABEL', 'female'),\n",
       " ('JOAO BAPTISTA', 'male'),\n",
       " ('LILIANA RAMONA', 'female'),\n",
       " ('ARIANNA MARIA', 'female'),\n",
       " ('SEBASTIAN DANIEL', 'male'),\n",
       " ('SAMPSON', 'male'),\n",
       " ('GLADYS PILAR', 'female'),\n",
       " ('KAZI', 'male'),\n",
       " ('JESUS NOE', 'male'),\n",
       " ('MARIA DEMELSA', 'female'),\n",
       " ('ANGELES ISABEL', 'female'),\n",
       " ('ABIMAEL', 'male'),\n",
       " ('ITZIAR MARIA', 'female'),\n",
       " ('PALOMA SUSANA', 'female'),\n",
       " ('ANTONIO ALFONSO', 'male'),\n",
       " ('YUXUAN', 'female'),\n",
       " ('GLORIA EDITH', 'female'),\n",
       " ('MIREN UXUE', 'female'),\n",
       " ('TAVITA', 'female'),\n",
       " ('LOURDES ALICIA', 'female'),\n",
       " ('JAIMETA', 'female'),\n",
       " ('JEAN BERNARD', 'male'),\n",
       " ('WILMER ANDRES', 'male'),\n",
       " ('IOAN SEBASTIAN', 'male'),\n",
       " ('MARIA FRANCESCA', 'female'),\n",
       " ('FATOU KINE', 'female'),\n",
       " ('CATALIN ION', 'male'),\n",
       " ('MARIA AGUILA', 'female'),\n",
       " ('ANGEL MARIO', 'male'),\n",
       " ('JONATHAN RUBEN', 'male'),\n",
       " ('CATALINA ASUNCION', 'female'),\n",
       " ('PAULO ANDRES', 'male'),\n",
       " ('ELVIS ANTONIO', 'male'),\n",
       " ('EMANUEL ANDREI', 'male'),\n",
       " ('ALINA SIMONA', 'female'),\n",
       " ('AYNOA', 'female'),\n",
       " ('JOSEPH ANTHONY', 'male'),\n",
       " ('HAROA', 'female'),\n",
       " ('ANDREA PAMELA', 'female'),\n",
       " ('GERMAN RODRIGO', 'male'),\n",
       " ('ALEXANDRU BOGDAN', 'male'),\n",
       " ('ANTONIO ALFREDO', 'male'),\n",
       " ('CRISTO JAVIER', 'male'),\n",
       " ('ALFREDO VICENTE', 'male'),\n",
       " ('INMACULADA ENCARNACI', 'female'),\n",
       " ('MADDI', 'female'),\n",
       " ('GERMAN JUAN', 'male'),\n",
       " ('MICHAEL ERNEST', 'male'),\n",
       " ('CARMELO AGUSTIN', 'male'),\n",
       " ('SILVANA MARIA', 'female'),\n",
       " ('MARIAN GABRIEL', 'male'),\n",
       " ('IVAN GONZALO', 'male'),\n",
       " ('AMRITPAL', 'male'),\n",
       " ('PEDRO PAULINO', 'male'),\n",
       " ('MANU', 'male'),\n",
       " ('EDUARDO ANDREI', 'male'),\n",
       " ('DAVE', 'male'),\n",
       " ('LAURA DESIREE', 'female'),\n",
       " ('FRANCISCO NOE', 'male'),\n",
       " ('NIKOLAY', 'male'),\n",
       " ('MARIA LAVINIA', 'female'),\n",
       " ('VENERABLE', 'male'),\n",
       " ('CARLOS FILIPE', 'male'),\n",
       " ('JOSE WILSON', 'male'),\n",
       " ('MARCELO ADRIAN', 'male'),\n",
       " ('ANELIA', 'female'),\n",
       " ('ANA BERTHA', 'female'),\n",
       " ('LUZ AYDA', 'female'),\n",
       " ('DARWIN STALIN', 'male'),\n",
       " ('RUPERTO JOSE', 'male'),\n",
       " ('ALBI', 'male'),\n",
       " ('AÑATERVE', 'male'),\n",
       " ('ANA GEMMA', 'female'),\n",
       " ('CATALIN MIHAI', 'male'),\n",
       " ('FANDILA', 'male'),\n",
       " ('FARES', 'male'),\n",
       " ('GEMMA LOUISE', 'female'),\n",
       " ('JIA', 'male'),\n",
       " ('STEPHANIE JANE', 'female'),\n",
       " ('FELIPE GABRIEL', 'male'),\n",
       " ('AMALIO JOSE', 'male'),\n",
       " ('DAVID SANTIAGO', 'male'),\n",
       " ('JOSE GASPAR', 'male'),\n",
       " ('GRABIELA', 'female'),\n",
       " ('JUANA CARIDAD', 'female'),\n",
       " ('MATIAS NICOLAS', 'male'),\n",
       " ('GRACIELA SUSANA', 'female'),\n",
       " ('NICOLAE CIPRIAN', 'male'),\n",
       " ('GUILLERMO JESUS', 'male'),\n",
       " ('ALEKSANDRA', 'female'),\n",
       " ('XIAOXUE', 'female'),\n",
       " ('LUTGARDO', 'male'),\n",
       " ('JUAN JOSE LUIS', 'male'),\n",
       " ('JESUS ABRAHAM', 'male'),\n",
       " ('TERESA ROCIO', 'female'),\n",
       " ('OTTO', 'male'),\n",
       " ('ROSSANA ELIZABETH', 'female'),\n",
       " ('IVAN DANIEL', 'male'),\n",
       " ('IRENEO', 'male'),\n",
       " ('HANS ULRICH', 'male'),\n",
       " ('VICTOR JULIAN', 'male'),\n",
       " ('AIJUN', 'female'),\n",
       " ('ELINA', 'female'),\n",
       " ('ROBERTO ELIAS', 'male'),\n",
       " ('CATHERINE ANNE', 'female'),\n",
       " ('MOHAMED SGHIR', 'male'),\n",
       " ('JUAN ISIDRO', 'male'),\n",
       " ('JAIME VICENTE', 'male'),\n",
       " ('MARIA MARCELINA', 'female'),\n",
       " ('ARANZAZU', 'female'),\n",
       " ('AGUSTIN CARLOS', 'male'),\n",
       " ('MARTA RAQUEL', 'female'),\n",
       " ('OSCAR WILLIAM', 'male'),\n",
       " ('ROBIN', 'female'),\n",
       " ('DIONISIO JESUS', 'male'),\n",
       " ('WEIHONG', 'female'),\n",
       " ('PAOLA ESTEFANIA', 'female'),\n",
       " ('ANTONIA OLGA', 'female'),\n",
       " ('LUCIA ESTRELLA', 'female'),\n",
       " ('SOFIA GUADALUPE', 'female'),\n",
       " ('BALLA', 'male'),\n",
       " ('RAZVAN VASILE', 'male'),\n",
       " ('FRANCISCA ESTRELLA', 'female'),\n",
       " ('OCTAVIO JUAN', 'male'),\n",
       " ('ISABEL ADELA', 'female'),\n",
       " ('JOSEFA AURELIA', 'female'),\n",
       " ('LAURA MARIA', 'female'),\n",
       " ('HUMBERTA', 'female'),\n",
       " ('ALBA AURORA', 'female'),\n",
       " ('DOLORES CINTA', 'female'),\n",
       " ('YULEIDY', 'female'),\n",
       " ('ROGERIO PAULO', 'male'),\n",
       " ('SILVIA ADELA', 'female'),\n",
       " ('RAMZI', 'male'),\n",
       " ('ROCIO VERONICA', 'female'),\n",
       " ('JUANA LIDIA', 'female'),\n",
       " ('GEORGE CONSTANTIN', 'male'),\n",
       " ('VENTSISLAV', 'male'),\n",
       " ('INARA', 'female'),\n",
       " ('SOFIA MARTA', 'female'),\n",
       " ('GERMAN DIEGO', 'male'),\n",
       " ('JULIA PAZ', 'female'),\n",
       " ('MARIA GREGORIA', 'female'),\n",
       " ('MONICA ESTER', 'female'),\n",
       " ('MOULAY AHMED', 'male'),\n",
       " ('GLORIA LILIANA', 'female'),\n",
       " ('ANGELA LILIANA', 'female'),\n",
       " ('BLANCA NIEVE', 'female'),\n",
       " ('SILVIA MIHAELA', 'female'),\n",
       " ('GESSICA', 'female'),\n",
       " ('CAROLAY', 'female'),\n",
       " ('HAMMA', 'male'),\n",
       " ('LAHBIBA', 'female'),\n",
       " ('OSCAR JORGE', 'male'),\n",
       " ('VICTORIYA', 'female'),\n",
       " ('OUASSILA', 'female'),\n",
       " ('JUDITH ANN', 'female'),\n",
       " ('EMANUEL ALEXANDRU', 'male'),\n",
       " ('FREDDY GEOVANNY', 'male'),\n",
       " ('MARIA AMALIA', 'female'),\n",
       " ('YUSRAA', 'female'),\n",
       " ('BEATRIZ AMELIA', 'female'),\n",
       " ('JASIEL', 'male'),\n",
       " ('CONSUELO AMPARO', 'female'),\n",
       " ('LORENA PAULA', 'female'),\n",
       " ('MIRELLA CARMEN', 'female'),\n",
       " ('IDAYRA', 'female'),\n",
       " ('JUANA ALTAGRACIA', 'female'),\n",
       " ('DAVID NORMAN', 'male'),\n",
       " ('JOHN MARIO', 'male'),\n",
       " ('PABLO JACOBO', 'male'),\n",
       " ('CARLOS ALIRIO', 'male'),\n",
       " ('RAFAEL MANUEL', 'male'),\n",
       " ('FATIMA SOFIA', 'female'),\n",
       " ('EMILIA ESTHER', 'female'),\n",
       " ('ANA TAMARA', 'female'),\n",
       " ('ISABEL ASCENSION', 'female'),\n",
       " ('CAMILO ALBERTO', 'male'),\n",
       " ('SEBASTIAN MARTIN', 'male'),\n",
       " ('MOISES ALEJANDRO', 'male'),\n",
       " ('RHIMO', 'female'),\n",
       " ('PAULA JIMENA', 'female'),\n",
       " ('FAUSTINO JUAN', 'male'),\n",
       " ('TATIANA PILAR', 'female'),\n",
       " ('JOANA CARMEN', 'female'),\n",
       " ('MARCELIANO', 'male'),\n",
       " ('FELICIANA', 'female'),\n",
       " ('OANA BIANCA', 'female'),\n",
       " ('FRANCISCA EULALIA', 'female'),\n",
       " ('SEBASTIAN IONUT', 'male'),\n",
       " ('ANTONIO JOAQUIM', 'male'),\n",
       " ('YALILA', 'female'),\n",
       " ('ABSALON', 'male'),\n",
       " ('MELIZA', 'female'),\n",
       " ('CELIA MARINA', 'female'),\n",
       " ('IOAN ANDREI', 'male'),\n",
       " ('ABOUBAKER', 'male'),\n",
       " ('FERHAT', 'male'),\n",
       " ('ANGIE ELIZABETH', 'female'),\n",
       " ('ELVIRA ROSARIO', 'female'),\n",
       " ('MARINES', 'female'),\n",
       " ('ALHAGI', 'male'),\n",
       " ('FRANCIS JAVIER', 'male'),\n",
       " ('ESTEBAN DOMINGO', 'male'),\n",
       " ('CARMEN DESIREE', 'female'),\n",
       " ('AUGUSTO CESAR', 'male'),\n",
       " ('SHUANGMEI', 'female'),\n",
       " ('ISABEL MARIA CARMEN', 'female'),\n",
       " ('JUAN HILARIO', 'male'),\n",
       " ('CATALIN DUMITRU', 'male'),\n",
       " ('MARIA TERESA JUANA', 'female'),\n",
       " ('PRIMO', 'male'),\n",
       " ('CLARA IRENE', 'female'),\n",
       " ('HUSSNAIN', 'male'),\n",
       " ('JOSE ADALBERTO', 'male'),\n",
       " ('ISMET', 'male'),\n",
       " ('ROSA NARCISA', 'female'),\n",
       " ('ROLANDA', 'female'),\n",
       " ('VIOLETA ELENA', 'female'),\n",
       " ('JUAN LEANDRO', 'male'),\n",
       " ('LUIS ANGEL', 'male'),\n",
       " ('LORENA ALEJANDRA', 'female'),\n",
       " ('MAILEN', 'female'),\n",
       " ('BEATRIZ ALEJANDRA', 'female'),\n",
       " ('LEE ANTHONY', 'male'),\n",
       " ('NUHAZET', 'male'),\n",
       " ('MARIA HONTANARES', 'female'),\n",
       " ('MAURICIO ESTEBAN', 'male'),\n",
       " ('ANA INMACULADA', 'female'),\n",
       " ('PAMELA ROCIO', 'female'),\n",
       " ('CHARLES JAMES', 'male'),\n",
       " ('EDWIN ALEXIS', 'male'),\n",
       " ('RAMON DIONISIO', 'male'),\n",
       " ('SITA', 'male'),\n",
       " ('ARYA', 'female'),\n",
       " ('CARLA VICTORIA', 'female'),\n",
       " ('MICHAEL RONALD', 'male'),\n",
       " ('ALDAIR', 'male'),\n",
       " ('MARTA DELIA', 'female'),\n",
       " ('NEREA CARMEN', 'female'),\n",
       " ('JACINTO DAVID', 'male'),\n",
       " ('BRUNO HENRIQUE', 'male'),\n",
       " ('YOSSRA', 'female'),\n",
       " ('ALINA ELENA', 'female'),\n",
       " ('JORGE ELADIO', 'male'),\n",
       " ('MARTINIANO', 'male'),\n",
       " ('MARIA CRISTETA', 'female'),\n",
       " ('DANIELA ISABEL', 'female'),\n",
       " ('URBEZ', 'male'),\n",
       " ('RAMON ORLANDO', 'male'),\n",
       " ('TREVOR WILLIAM', 'male'),\n",
       " ('JUAN DIONISIO', 'male'),\n",
       " ('FIONA MARY', 'female'),\n",
       " ('MANUEL MATIAS', 'male'),\n",
       " ('MARTA CATALINA', 'female'),\n",
       " ('MAGDALENA CRISTINA', 'female'),\n",
       " ('EUGENI', 'male'),\n",
       " ('MIHAI DUMITRU', 'male'),\n",
       " ('PATRICIA PALOMA', 'female'),\n",
       " ('LISHA', 'female'),\n",
       " ('ANASTASIO', 'male'),\n",
       " ('VALERIA VICTORIA', 'female'),\n",
       " ('JOAN RAFEL', 'male'),\n",
       " ('SARA', 'male'),\n",
       " ('NURIA LUISA', 'female'),\n",
       " ('MARCELINO JUAN', 'male'),\n",
       " ('JUAN DIMAS', 'male'),\n",
       " ('JAZAEL', 'male'),\n",
       " ('CONSTANTIN MARIUS', 'male'),\n",
       " ('ADINA GABRIELA', 'female'),\n",
       " ('EL OUAZNA', 'female'),\n",
       " ('MERCEDES AMPARO', 'female'),\n",
       " ('MERCEDES SOLEDAD', 'female'),\n",
       " ('ANA MARIA ROCIO', 'female'),\n",
       " ('SILVERIA', 'female'),\n",
       " ('GLADIZ', 'female'),\n",
       " ('MARIA RONDA', 'female'),\n",
       " ('ICAR', 'male'),\n",
       " ('MAITANE', 'female'),\n",
       " ('CRISTINA ANDREA', 'female'),\n",
       " ('YIFAN', 'male'),\n",
       " ('MARIA TRINITAT', 'female'),\n",
       " ('TATIANE', 'female'),\n",
       " ('GLORIA PATRICIA', 'female'),\n",
       " ('MARCOS AGUSTIN', 'male'),\n",
       " ('MARIA MONTESCLAROS', 'female'),\n",
       " ('LEONCIO JOSE', 'male'),\n",
       " ('VANESSA ESTEFANIA', 'female'),\n",
       " ('ANNIA', 'female'),\n",
       " ('LOYOLA', 'female'),\n",
       " ('SILVIA MANUELA', 'female'),\n",
       " ('LYNN', 'female'),\n",
       " ('JOEL JOAN', 'male'),\n",
       " ('MINEL', 'male'),\n",
       " ('XIANMEI', 'female'),\n",
       " ('ABDEL ALI', 'male'),\n",
       " ('DANNY FERNANDO', 'male'),\n",
       " ('CESAR JOEL', 'male'),\n",
       " ('UDO', 'male'),\n",
       " ('MELCA', 'female'),\n",
       " ('LEONTINA', 'female'),\n",
       " ('JOAN RAFAEL', 'male'),\n",
       " ('BARBARA MARGARITA', 'female'),\n",
       " ('ALISON NICOLE', 'female'),\n",
       " ('DALILA', 'female'),\n",
       " ('ISAURA MARIA', 'female'),\n",
       " ('DENIS CRISTIAN', 'male'),\n",
       " ('DANIEL RODOLFO', 'male'),\n",
       " ('KALEN', 'male'),\n",
       " ('LOURDES SOLEDAD', 'female'),\n",
       " ('FELIX JESUS', 'male'),\n",
       " ('JOSE LUIS MANUEL', 'male'),\n",
       " ('ANEUDY', 'male'),\n",
       " ('EMILIA RAMONA', 'female'),\n",
       " ('PABLO GERMAN', 'male'),\n",
       " ('FELIX JOSE', 'male'),\n",
       " ('MARILO', 'female'),\n",
       " ('BRIAN ANTHONY', 'male'),\n",
       " ('ARGIMIRO JOSE', 'male'),\n",
       " ('ANGEL ANSELMO', 'male'),\n",
       " ('ZHENNI', 'female'),\n",
       " ('MARIO ANIBAL', 'male'),\n",
       " ('KEISHA', 'female'),\n",
       " ('CONCEPCION LOURDES', 'female'),\n",
       " ('ISABEL LORENA', 'female'),\n",
       " ('TAILA', 'female'),\n",
       " ('DAVID STEPHEN', 'male'),\n",
       " ('AUSTINE', 'male'),\n",
       " ('FABIAN FRANCISCO', 'male'),\n",
       " ('CHADA', 'female'),\n",
       " ('FOUZIA', 'female'),\n",
       " ('ALICIA GRACIELA', 'female'),\n",
       " ('KEVIN PATRICK', 'male'),\n",
       " ('THOMAS ANTHONY', 'male'),\n",
       " ('FRANCISCO EZEQUIEL', 'male'),\n",
       " ('RUBEN IGNACIO', 'male'),\n",
       " ('VASIL GEORGIEV', 'male'),\n",
       " ('WENJUN', 'female'),\n",
       " ('ANNA', 'female'),\n",
       " ('OLYMPIA', 'female'),\n",
       " ('DETLEF', 'male'),\n",
       " ('JOSEP EMILI', 'male'),\n",
       " ('FACUNDA', 'female'),\n",
       " ('MIHAELA IULIANA', 'female'),\n",
       " ('SUIZHU', 'female'),\n",
       " ('CRISTINA', 'female'),\n",
       " ('SHUANG', 'female'),\n",
       " ('MARLY', 'female'),\n",
       " ('PEDRO EMILIO', 'male'),\n",
       " ('MOHCEN', 'male'),\n",
       " ('CRISTINA SILVIA', 'female'),\n",
       " ('MUHAMMAD USMAN', 'male'),\n",
       " ('ANACLETO', 'male'),\n",
       " ('MAIRENA', 'female'),\n",
       " ('AMANDINA', 'female'),\n",
       " ('JUAN MAXIMO', 'male'),\n",
       " ('ROSA LAURA', 'female'),\n",
       " ('CARLOS FIDEL', 'male'),\n",
       " ('CLAUDIA MARCELA', 'female'),\n",
       " ('GANCHO', 'male'),\n",
       " ('VOICU', 'male'),\n",
       " ('AMANDA PILAR', 'female'),\n",
       " ('AUREL MARIUS', 'male'),\n",
       " ('ILEANA DANIELA', 'female'),\n",
       " ('FATNA', 'female'),\n",
       " ('ANDREI VIOREL', 'male'),\n",
       " ('BRIGITA', 'female'),\n",
       " ('GUILLERMO ANGEL', 'male'),\n",
       " ('RAZVAN CONSTANTIN', 'male'),\n",
       " ('JOAN ISAAC', 'male'),\n",
       " ('CONCEPCION ROCIO', 'female'),\n",
       " ('ISIDRO DOMINGO', 'male'),\n",
       " ('NAJI', 'male'),\n",
       " ('GHEORGHE VASILE', 'male'),\n",
       " ('MARIAN', 'male'),\n",
       " ('ARTURO MANUEL', 'male'),\n",
       " ('PATRICIA INES', 'female'),\n",
       " ('SILVIAN', 'male'),\n",
       " ('JORGE ALFONSO', 'male'),\n",
       " ('HUGO GONZALO', 'male'),\n",
       " ('FILIPP', 'male'),\n",
       " ('FRANCISCA CARMEN', 'female'),\n",
       " ('MAYDA', 'female'),\n",
       " ('CLAUDIA ALEXANDRA', 'female'),\n",
       " ('TOMASINA', 'female'),\n",
       " ('JAUME ENRIC', 'male'),\n",
       " ('CANDIDA JOSEFA', 'female'),\n",
       " ('DANIELA ROSARIO', 'female'),\n",
       " ('MIRIAM GRACIELA', 'female'),\n",
       " ('ROLANDO ANTONIO', 'male'),\n",
       " ('LAUDELINA', 'female'),\n",
       " ('ALEXANDRU MARIAN', 'male'),\n",
       " ('FERNANDO MANUEL', 'male'),\n",
       " ('ANTONIA RAMONA', 'female'),\n",
       " ('ANTONIO LORENZO', 'male'),\n",
       " ('NANCY GABRIELA', 'female'),\n",
       " ('GHEORGHE', 'male'),\n",
       " ('JUAN HUMBERTO', 'male'),\n",
       " ('LOURDES ELIZABETH', 'female'),\n",
       " ('NEIBA', 'female'),\n",
       " ('AHMEDOU', 'male'),\n",
       " ('CESAR HUGO', 'male'),\n",
       " ('DIONISIO', 'male'),\n",
       " ('TANIA ISABEL', 'female'),\n",
       " ('SILVERI', 'male'),\n",
       " ('MOHAMMED REDA', 'male'),\n",
       " ('SERGIO PEDRO', 'male'),\n",
       " ('MERCEDES CECILIA', 'female'),\n",
       " ('XIAODONG', 'male'),\n",
       " ('OLGA TERESA', 'female'),\n",
       " ('STEPHANIA', 'female'),\n",
       " ('MARIA MAURA', 'female'),\n",
       " ('ISABEL ARACELI', 'female'),\n",
       " ('SERGI JOSEP', 'male'),\n",
       " ('MARIA HILARIA', 'female'),\n",
       " ('JOSE AURELIO', 'male'),\n",
       " ('EDUARDO AGUSTIN', 'male'),\n",
       " ('DIARRA', 'male'),\n",
       " ('DANIELA LILIANA', 'female'),\n",
       " ('CARMELO MIGUEL', 'male'),\n",
       " ('JONAY JOSE', 'male'),\n",
       " ('STEVEN ALEXANDER', 'male'),\n",
       " ('DILETTA', 'female'),\n",
       " ('MICHEL', 'male'),\n",
       " ('MIREILLA', 'female'),\n",
       " ('INES ANA', 'female'),\n",
       " ('VICTOR RAUL', 'male'),\n",
       " ('JEAN PHILIPPE', 'male'),\n",
       " ('FLORICA', 'male'),\n",
       " ('SORIN VASILE', 'male'),\n",
       " ('LAURA MATILDE', 'female'),\n",
       " ('ASENSIA', 'female'),\n",
       " ('FERNANDO MARCOS', 'male'),\n",
       " ('ALSIRA', 'female'),\n",
       " ('ZOHAIR', 'male'),\n",
       " ('JUAN SIXTO', 'male'),\n",
       " ('ROXANA LILIANA', 'female'),\n",
       " ('MARIANO RICARDO', 'male'),\n",
       " ('LE', 'female'),\n",
       " ('FERMIN CARLOS', 'male'),\n",
       " ('PAULIUS', 'male'),\n",
       " ('MIHAELA DIANA', 'female'),\n",
       " ('MIHAELA ALINA', 'female'),\n",
       " ('DAYANNE', 'female'),\n",
       " ('EMERITA', 'female'),\n",
       " ('SANDRA IVONNE', 'female'),\n",
       " ('LAXMAN', 'male'),\n",
       " ('ANCA MADALINA', 'female'),\n",
       " ('FOIX', 'female'),\n",
       " ('HILARIO FRANCISCO', 'male'),\n",
       " ('MARIA EUDOSIA', 'female'),\n",
       " ('ROSA BELEN', 'female'),\n",
       " ('ELENA SIMONA', 'female'),\n",
       " ('OSWALDO ANTONIO', 'male'),\n",
       " ('ANTONIO GUSTAVO', 'male'),\n",
       " ('JACINTO JAVIER', 'male'),\n",
       " ('AWILDA', 'female'),\n",
       " ('NICOLAS JORGE', 'male'),\n",
       " ('JULIA VICTORIA', 'female'),\n",
       " ('HAKIM', 'male'),\n",
       " ('VILMA', 'female'),\n",
       " ('MIRIAM LORENA', 'female'),\n",
       " ('BRIAN KENNETH', 'male'),\n",
       " ('MARCELA MARIA', 'female'),\n",
       " ('CRISTINA MARINA', 'female'),\n",
       " ('LIXIN', 'male'),\n",
       " ('HANS WALTER', 'male'),\n",
       " ('OSAGIE', 'male'),\n",
       " ('PATRICIA ANDREA', 'female'),\n",
       " ('MARIA CESAREA', 'female'),\n",
       " ('MOHAMED EL AMINE', 'male'),\n",
       " ('FRANCISCO ANICETO', 'male'),\n",
       " ('SEGUNDO JOSE', 'male'),\n",
       " ('MICHELLE ANNE', 'female'),\n",
       " ('MANUEL MARINO', 'male'),\n",
       " ('ARMANDO ANGEL', 'male'),\n",
       " ('VERONICA MARIBEL', 'female'),\n",
       " ('MARUA', 'female'),\n",
       " ('DORA ELIZABETH', 'female'),\n",
       " ('ZIGOR', 'male'),\n",
       " ('AURORA NIEVES', 'female'),\n",
       " ('FLORIN PAUL', 'male'),\n",
       " ('NURIA ESTHER', 'female'),\n",
       " ('HERNANDO', 'male'),\n",
       " ('JOSE ARIDANE', 'male'),\n",
       " ('MARIA SAGRARIO', 'female'),\n",
       " ('MARUSYA', 'female'),\n",
       " ('JOSELINA', 'female'),\n",
       " ('RODERICK', 'male'),\n",
       " ('PETER LEONARD', 'male'),\n",
       " ('ANGIE JULIETH', 'female'),\n",
       " ('ZHOR', 'female'),\n",
       " ('STANISLAWA', 'female'),\n",
       " ('ERIC CHRISTIAN', 'male'),\n",
       " ('ANA CAROLINE', 'female'),\n",
       " ('LEANDRO LUIS', 'male'),\n",
       " ('ALEXSANDRA', 'female'),\n",
       " ('MARIA VILLA', 'female'),\n",
       " ('MANUEL DARIO', 'male'),\n",
       " ('KINE', 'female'),\n",
       " ('PEDRO RICARDO', 'male'),\n",
       " ('EMILY ROSE', 'female'),\n",
       " ('CRISTOFHER', 'male'),\n",
       " ('IKER EDUARDO', 'male'),\n",
       " ('DENNIS MICHAEL', 'male'),\n",
       " ('LIBERTAD MARIA', 'female'),\n",
       " ('SEBASTIAN RICARDO', 'male'),\n",
       " ('HUGO NELSON', 'male'),\n",
       " ('DORINDA MARIA', 'female'),\n",
       " ('SULAY', 'female'),\n",
       " ('FUENSANTA PILAR', 'female'),\n",
       " ('AMAIUR', 'male'),\n",
       " ('ESPERANZA PILAR', 'female'),\n",
       " ('PABLO ANIBAL', 'male'),\n",
       " ('LIANGYING', 'female'),\n",
       " ('YANXI', 'female'),\n",
       " ('CLAUDIA PAMELA', 'female'),\n",
       " ('ROSANNY', 'female'),\n",
       " ('OMAR MANUEL', 'male'),\n",
       " ('ENRIQUE ADOLFO', 'male'),\n",
       " ('JULIO MANUEL', 'male'),\n",
       " ('LUISA MAGDALENA', 'female'),\n",
       " ('MARIUS ALIN', 'male'),\n",
       " ('FRANCISCA GLORIA', 'female'),\n",
       " ('NABAR', 'male'),\n",
       " ('CRISTIAN FABIAN', 'male'),\n",
       " ('WALTER ADRIAN', 'male'),\n",
       " ('BERNABELA', 'female'),\n",
       " ('MARICA', 'female'),\n",
       " ('ARMANDO RAUL', 'male'),\n",
       " ('ERNESTO ALBERTO', 'male'),\n",
       " ('KANE', 'male'),\n",
       " ('MONICA ARACELI', 'female'),\n",
       " ('GABRIEL JAVIER', 'male'),\n",
       " ('BENEDETTA', 'female'),\n",
       " ('MIREN ARGIA', 'female'),\n",
       " ('IÑAKI MIRENA', 'male'),\n",
       " ('ABDOU AZIZ', 'male'),\n",
       " ('DANDAN', 'female'),\n",
       " ('GHAZALA', 'female'),\n",
       " ('DAVID LESLIE', 'male'),\n",
       " ('KEPA MIRENA', 'male'),\n",
       " ('MARCELA LUCIA', 'female'),\n",
       " ('GLADYS AMPARO', 'female'),\n",
       " ('LORETO MARIA', 'female'),\n",
       " ('ESTHEFANIA', 'female'),\n",
       " ('MADANI', 'male'),\n",
       " ('GIADA', 'female'),\n",
       " ('YEMIMA', 'female'),\n",
       " ('ANA DEBORA', 'female'),\n",
       " ('TEODOMIRA', 'female'),\n",
       " ('JOANNA ELZBIETA', 'female'),\n",
       " ('ODILIO', 'male'),\n",
       " ('JESUS MARIA', 'female'),\n",
       " ('JUAN BRAULIO', 'male'),\n",
       " ('GERMANIA ELIZABETH', 'female'),\n",
       " ('ERIK GABRIEL', 'male'),\n",
       " ('JADDUCH', 'female'),\n",
       " ('ALFREDA', 'female'),\n",
       " ('GLORIA JANETH', 'female'),\n",
       " ('PABLO RICARDO', 'male'),\n",
       " ('OVIDIU LUCIAN', 'male'),\n",
       " ('ROXANA ELENA', 'female'),\n",
       " ('RUTH ANN', 'female'),\n",
       " ('MELCHORA', 'female'),\n",
       " ('FEN', 'female'),\n",
       " ('JUNPING', 'male'),\n",
       " ('CHABIER', 'male'),\n",
       " ('FACUNDO JAVIER', 'male'),\n",
       " ('IO', 'female'),\n",
       " ('MARIA ENCARNACIO', 'female'),\n",
       " ('MAXIMINO JOSE', 'male'),\n",
       " ('FELIKS', 'male'),\n",
       " ('IRENE ROSA', 'female'),\n",
       " ('JORGE GREGORIO', 'male'),\n",
       " ('WILSON PATRICIO', 'male'),\n",
       " ('CLARA MAR', 'female'),\n",
       " ('DENISA FLORENTINA', 'female'),\n",
       " ('HARDEV', 'male'),\n",
       " ('LIBORIA', 'female'),\n",
       " ('ANA CELI', 'female'),\n",
       " ('JINWEI', 'male'),\n",
       " ('ISAURO', 'male'),\n",
       " ('JACQUELINE SUSAN', 'female'),\n",
       " ('MARZIA', 'female'),\n",
       " ('ANTONIO RENE', 'male'),\n",
       " ('NUMAN', 'male'),\n",
       " ('JUANA CATALINA', 'female'),\n",
       " ('RICHARD ALAN', 'male'),\n",
       " ('JOSE LAMBERTO', 'male'),\n",
       " ('ERIKA ELIZABETH', 'female'),\n",
       " ('MIRTA ROSA', 'female'),\n",
       " ('RANIA', 'female'),\n",
       " ('PEDRO FELIX', 'male'),\n",
       " ('RACHEL LOUISE', 'female'),\n",
       " ('GUIDO FERNANDO', 'male'),\n",
       " ('JOSE LINO', 'male'),\n",
       " ('AZA', 'female'),\n",
       " ('EMILIO DANIEL', 'male'),\n",
       " ('OLGA ANTONIA', 'female'),\n",
       " ('GUILLERMO RODRIGO', 'male'),\n",
       " ('ADRIAN CONSTANTIN', 'male'),\n",
       " ('JOSE BIENVENIDO', 'male'),\n",
       " ('BLANCA LIDIA', 'female'),\n",
       " ('EDWARD JOHN', 'male'),\n",
       " ('PETRANKA', 'female'),\n",
       " ('CARMELINA', 'female'),\n",
       " ('JASMINE', 'female'),\n",
       " ('RAQUEL ISABEL', 'female'),\n",
       " ('AGRICIO', 'male'),\n",
       " ('GANKA', 'female'),\n",
       " ('STEVE', 'male'),\n",
       " ('JOSEFA ELVIRA', 'female'),\n",
       " ('ILIES', 'male'),\n",
       " ('ANA REMEDIOS', 'female'),\n",
       " ('ARIEL MARCELO', 'male'),\n",
       " ('GLORIA JOSE', 'female'),\n",
       " ('ADELA TERESA', 'female'),\n",
       " ('CORAL ROCIO', 'female'),\n",
       " ('MIRIAN ADELA', 'female'),\n",
       " ('YLENIA MARIA', 'female'),\n",
       " ('MOH SALEM', 'male'),\n",
       " ('SABINO', 'male'),\n",
       " ('LIDIA AMPARO', 'female'),\n",
       " ('FLORENTINA CARMEN', 'female'),\n",
       " ('AGUSTINA ROSA', 'female'),\n",
       " ('JUANA PATRICIA', 'female'),\n",
       " ('JUAN ROGELIO', 'male'),\n",
       " ('DANIEL DAVID', 'male'),\n",
       " ('GOPAL', 'male'),\n",
       " ('CARMEN ESTEFANIA', 'female'),\n",
       " ('ROSA BERTHA', 'female'),\n",
       " ('SOLETAT', 'female'),\n",
       " ('ORESTE', 'male'),\n",
       " ('GOODLUCK', 'male'),\n",
       " ('IVONNE ALEXANDRA', 'female'),\n",
       " ('IMENE', 'female'),\n",
       " ('ALBIN', 'male'),\n",
       " ('AKSINIYA', 'female'),\n",
       " ('CARMEN DILIA', 'female'),\n",
       " ('TOM', 'male'),\n",
       " ('NOEMI BEATRIZ', 'female'),\n",
       " ('RICARDO CARMELO', 'male'),\n",
       " ('CLARIZA', 'female'),\n",
       " ('SALVIO', 'male'),\n",
       " ('SADIQ', 'male'),\n",
       " ('ANA MARIA CRISTINA', 'female'),\n",
       " ('ELSA CRISTINA', 'female'),\n",
       " ('VICTORIA MAGDALENA', 'female'),\n",
       " ('AYELEN', 'female'),\n",
       " ('JANETTE', 'female'),\n",
       " ('LAURA PALOMA', 'female'),\n",
       " ('MIREN AGURTZANE', 'female'),\n",
       " ('MERARI', 'female'),\n",
       " ('DUMITRU ALEXANDRU', 'male'),\n",
       " ('DJILY', 'male'),\n",
       " ('ALEXANDER', 'male'),\n",
       " ('MARIVIC', 'female'),\n",
       " ('DECEBAL', 'male'),\n",
       " ('CLAUDIO ESTEBAN', 'male'),\n",
       " ('SILVIA ROSANA', 'female'),\n",
       " ('AMALIA ROSARIO', 'female'),\n",
       " ('CESAR ARMANDO', 'male'),\n",
       " ('FAUSTO FRANCISCO', 'male'),\n",
       " ('PILAR MARTA', 'female'),\n",
       " ('TIMUR', 'male'),\n",
       " ('HEROINA', 'female'),\n",
       " ('IONELA FLORINA', 'female'),\n",
       " ('RAFAEL ISIDRO', 'male'),\n",
       " ('ANTONIA PETRA', 'female'),\n",
       " ('EUGENIA PATRICIA', 'female'),\n",
       " ('SANSON', 'male'),\n",
       " ('JOAQUINA MARIA', 'female'),\n",
       " ('AMPARO TERESA', 'female'),\n",
       " ('MONICA BEATRIZ', 'female'),\n",
       " ('EL MOULOUDI', 'male'),\n",
       " ('CAMELIA NICOLETA', 'female'),\n",
       " ('GEORGE CLAUDIU', 'male'),\n",
       " ('ANA MARIA', 'female'),\n",
       " ('PINO DOLORES', 'female'),\n",
       " ('CRISTIAN DANIEL', 'male'),\n",
       " ('GLORIA DOLORES', 'female'),\n",
       " ('BADRA', 'female'),\n",
       " ('LORENA MAR', 'female'),\n",
       " ('ROSMEN', 'male'),\n",
       " ('FIONA MARIA', 'female'),\n",
       " ('FLOR ELIZABETH', 'female'),\n",
       " ('EIRE', 'female'),\n",
       " ('FRANCISCO GASPAR', 'male'),\n",
       " ('MONICA INMACULADA', 'female'),\n",
       " ('MIRTA ISABEL', 'female'),\n",
       " ('ROSANNA MARIA', 'female'),\n",
       " ('MANUEL RAUL', 'male'),\n",
       " ('GURUTZE', 'female'),\n",
       " ('RONALD ENRIQUE', 'male'),\n",
       " ('NESTOR HUGO', 'male'),\n",
       " ('PERLA BEATRIZ', 'female'),\n",
       " ('MIREN KARMELE', 'female'),\n",
       " ('PROCULO', 'male'),\n",
       " ('BARTOSZ', 'male'),\n",
       " ('KATIA MARIA', 'female'),\n",
       " ('IOANNIS', 'male'),\n",
       " ('AURICA', 'male'),\n",
       " ('GOTZON MIRENA', 'male'),\n",
       " ('SARAY MARIA', 'female'),\n",
       " ('LARISA', 'female'),\n",
       " ('MERCEDES AMALIA', 'female'),\n",
       " ('XIUPING', 'female'),\n",
       " ('ESTELA CRISTINA', 'female'),\n",
       " ('EWA', 'female'),\n",
       " ('SERGIO PASCUAL', 'male'),\n",
       " ('SALEC', 'male'),\n",
       " ('JOSUE JESUS', 'male'),\n",
       " ('ERENA', 'female'),\n",
       " ('RICARDO DAVID', 'male'),\n",
       " ('ZHILIANG', 'male'),\n",
       " ('VALENTIN ENRIQUE', 'male'),\n",
       " ('ALBERTO JOAQUIN', 'male'),\n",
       " ('JOICE', 'female'),\n",
       " ('SANNE', 'female'),\n",
       " ('MARIA SINAI', 'female'),\n",
       " ('ASSA', 'female'),\n",
       " ('MARJA LIISA', 'female'),\n",
       " ('BERNARDO GABRIEL', 'male'),\n",
       " ('SANTIAGO JAVIER', 'male'),\n",
       " ('GEORGIANA GABRIELA', 'female'),\n",
       " ('KILIAN', 'male'),\n",
       " ('ELISEO ANTONIO', 'male'),\n",
       " ('AYANE', 'female'),\n",
       " ('GOIURI', 'female'),\n",
       " ('ELENA VICENTA', 'female'),\n",
       " ('JULIO ISAAC', 'male'),\n",
       " ('CONSTANTIN VIOREL', 'male'),\n",
       " ('LUIZA MARIA', 'female'),\n",
       " ('DENISA CRISTINA', 'female'),\n",
       " ('HUGO GABRIEL', 'male'),\n",
       " ('ALISSA', 'female'),\n",
       " ('LUCIO ANTONIO', 'male'),\n",
       " ('ELISA ROSA', 'female'),\n",
       " ('IGNACIO JAIME', 'male'),\n",
       " ('CHRISTIAN ANTONIO', 'male'),\n",
       " ('CHENXI', 'male'),\n",
       " ('NAEVIA', 'female'),\n",
       " ('RONALD STEVEN', 'male'),\n",
       " ('JULIA MONTSERRAT', 'female'),\n",
       " ('MONICA ELISABETH', 'female'),\n",
       " ('IULIAN CATALIN', 'male'),\n",
       " ('JESSICA LIZETH', 'female'),\n",
       " ('ELISABET CARMEN', 'female'),\n",
       " ('HUILI', 'female'),\n",
       " ('FRANCISCO DIONISIO', 'male'),\n",
       " ('MARIA NEMESIA', 'female'),\n",
       " ('ILINCA', 'female'),\n",
       " ('SILVANA', 'female'),\n",
       " ('ANA AZAHARA', 'female'),\n",
       " ('MIKEL ANDER', 'male'),\n",
       " ('EWELINA ANNA', 'female'),\n",
       " ('PATRICK CHRISTIAN', 'male'),\n",
       " ('GULFAM', 'male'),\n",
       " ('JOHN SAMUEL', 'male'),\n",
       " ('ENRIQUE ANGEL', 'male'),\n",
       " ('ANTONIO HUGO', 'male'),\n",
       " ('PABLO JOAQUIN', 'male'),\n",
       " ('MARIZETE', 'female'),\n",
       " ('MARIA LARRAITZ', 'female'),\n",
       " ('PIA', 'female'),\n",
       " ('ERIKA ELENA', 'female'),\n",
       " ('DEIENE', 'female'),\n",
       " ('MARCELA ALEXANDRA', 'female'),\n",
       " ('PAULA EMILIA', 'female'),\n",
       " ('XINYI', 'male'),\n",
       " ('WILSON GEOVANNY', 'male'),\n",
       " ('IVAN ALFREDO', 'male'),\n",
       " ('ADALID', 'male'),\n",
       " ('CLARA', 'female'),\n",
       " ('CHRISTINE MARGARET', 'female'),\n",
       " ('ENOLA', 'female'),\n",
       " ('GRACIA CARMEN', 'female'),\n",
       " ('EDWIN GONZALO', 'male'),\n",
       " ('EMILI', 'male'),\n",
       " ('MBAYE', 'male'),\n",
       " ('ROCIO REYES', 'female'),\n",
       " ('ANDRES SERGIO', 'male'),\n",
       " ('MABEL', 'female'),\n",
       " ('SHEHZAD', 'male'),\n",
       " ('JAIME BOLIVAR', 'male'),\n",
       " ('CRUZ ANGEL', 'male'),\n",
       " ('JULIO MARCOS', 'male'),\n",
       " ('SEKOU OUMAR', 'male'),\n",
       " ('LETICIA ELENA', 'female'),\n",
       " ('JUAN LUCIANO', 'male'),\n",
       " ('LILIAN CARMEN', 'female'),\n",
       " ('ELIZABET', 'female'),\n",
       " ('JUAN JACINTO', 'male'),\n",
       " ('STEFAN DIMITROV', 'male'),\n",
       " ('RABEA', 'female'),\n",
       " ('MARINA MILAGROS', 'female'),\n",
       " ('EDUARDO JOSUE', 'male'),\n",
       " ('SENY', 'male'),\n",
       " ('MARIA FAUSTINA', 'female'),\n",
       " ('FRANKLIN ORLANDO', 'male'),\n",
       " ('EMILIA ALEXANDRA', 'female'),\n",
       " ('IONELA CRISTINA', 'female'),\n",
       " ('SOLOMANE', 'male'),\n",
       " ('JESSICA NICOLE', 'female'),\n",
       " ('ENEIDA', 'female'),\n",
       " ('ESTEFANY CAROLINA', 'female'),\n",
       " ('ANTONIO ROQUE', 'male'),\n",
       " ('AURELIO JOSE', 'male'),\n",
       " ('NEIL JAMES', 'male'),\n",
       " ('AUREA', 'female'),\n",
       " ('EL MOUSTAFA', 'male'),\n",
       " ('ELISKA', 'female'),\n",
       " ('HARVINDER', 'male'),\n",
       " ('OLAF', 'male'),\n",
       " ('INMACULADA RAQUEL', 'female'),\n",
       " ('JAVIER OMAR', 'male'),\n",
       " ('PAOLA VICTORIA', 'female'),\n",
       " ('DANIELA MARIANA', 'female'),\n",
       " ('TRISTANA', 'female'),\n",
       " ...]"
      ]
     },
     "execution_count": 85,
     "metadata": {},
     "output_type": "execute_result"
    }
   ],
   "source": [
    "random.shuffle(tagsetE)\n",
    "tagsetE"
   ]
  },
  {
   "cell_type": "code",
   "execution_count": null,
   "outputs": [],
   "source": [
    "atributos_esp('DIANA MARISOL')"
   ],
   "metadata": {
    "collapsed": false,
    "pycharm": {
     "name": "#%%\n"
    }
   }
  },
  {
   "cell_type": "code",
   "execution_count": null,
   "outputs": [],
   "source": [
    "atributos_esp('VASILKA')"
   ],
   "metadata": {
    "collapsed": false,
    "pycharm": {
     "name": "#%%\n"
    }
   }
  },
  {
   "cell_type": "markdown",
   "source": [
    "2. **Entrenamiento y performance del modelo**: usando el classificador de Naive Bayes de NLTK entrena un modelo sencillo usando el mismo feature de la última letra del nombre, prueba algunas predicciones y calcula el performance del modelo. "
   ],
   "metadata": {
    "collapsed": false
   }
  },
  {
   "cell_type": "code",
   "execution_count": null,
   "outputs": [],
   "source": [
    "# escribe tu código aquí\n",
    "fsetE1 = [(atributos(n), g) for (n, g) in tagsetE]\n",
    "trainE1, testE1 = fsetE1[10000:], fsetE1[:10000]\n",
    "print(len(trainE1))\n",
    "print(len(testE1))"
   ],
   "metadata": {
    "collapsed": false,
    "pycharm": {
     "name": "#%%\n"
    }
   }
  },
  {
   "cell_type": "code",
   "execution_count": null,
   "outputs": [],
   "source": [
    "classifierE1 = nltk.NaiveBayesClassifier.train(trainE1)\n",
    "print(nltk.classify.accuracy(classifierE1, trainE1))\n",
    "print(nltk.classify.accuracy(classifierE1, testE1))"
   ],
   "metadata": {
    "collapsed": false,
    "pycharm": {
     "name": "#%%\n"
    }
   }
  },
  {
   "cell_type": "code",
   "execution_count": null,
   "outputs": [],
   "source": [
    "fsetE2 = [(mas_atributos(n), g) for (n, g) in tagsetE]\n",
    "trainE2, testE2 = fsetE2[10000:], fsetE2[:10000]"
   ],
   "metadata": {
    "collapsed": false,
    "pycharm": {
     "name": "#%%\n"
    }
   }
  },
  {
   "cell_type": "code",
   "execution_count": null,
   "outputs": [],
   "source": [
    "classifierE2 = nltk.NaiveBayesClassifier.train(trainE2)\n",
    "print(nltk.classify.accuracy(classifierE2, trainE2))\n",
    "print(nltk.classify.accuracy(classifierE2, testE2))"
   ],
   "metadata": {
    "collapsed": false,
    "pycharm": {
     "name": "#%%\n"
    }
   }
  },
  {
   "cell_type": "markdown",
   "source": [
    "3. **Mejores atributos:** Define una función como `atributos_esp()` donde puedas extraer mejores atributos con los cuales entrenar una mejor version del clasificador. Haz un segundo entrenamiento y verifica como mejora el performance de tu modelo. ¿Se te ocurren mejores maneras de definir atributos para esta tarea particular?"
   ],
   "metadata": {
    "collapsed": false
   }
  },
  {
   "cell_type": "code",
   "execution_count": null,
   "outputs": [],
   "source": [
    "# escribe tu código aquí\n",
    "fsetE3 = [(atributos_esp(n), g) for (n, g) in tagsetE]\n",
    "trainE3, testE3 = fsetE3[10000:], fsetE3[:10000]\n",
    "print(len(trainE3))\n",
    "print(len(testE3))"
   ],
   "metadata": {
    "collapsed": false,
    "pycharm": {
     "name": "#%%\n"
    }
   }
  },
  {
   "cell_type": "code",
   "execution_count": null,
   "outputs": [],
   "source": [
    "classifierE3 = nltk.NaiveBayesClassifier.train(trainE3)\n",
    "print(nltk.classify.accuracy(classifierE3, trainE3))\n",
    "print(nltk.classify.accuracy(classifierE3, testE3))"
   ],
   "metadata": {
    "collapsed": false,
    "pycharm": {
     "name": "#%%\n"
    }
   }
  },
  {
   "cell_type": "code",
   "execution_count": 100,
   "metadata": {},
   "outputs": [
    {
     "data": {
      "text/plain": [
       "{'primera_letra': 'd',\n",
       " 'ultima_letra': 'l',\n",
       " 'palabras': 2,\n",
       " 'primera_letra(0)': 'd',\n",
       " 'ultima_letra(0)': 'a',\n",
       " 'primera_letra(1)': 'm',\n",
       " 'ultima_letra(1)': 'l'}"
      ]
     },
     "execution_count": 100,
     "metadata": {},
     "output_type": "execute_result"
    }
   ],
   "source": [
    "# Clasificación de documentos (email spam o no spam)"
   ]
  },
  {
   "cell_type": "code",
   "execution_count": 101,
   "metadata": {},
   "outputs": [
    {
     "data": {
      "text/plain": [
       "{'primera_letra': 'v',\n",
       " 'ultima_letra': 'a',\n",
       " 'palabras': 1,\n",
       " 'primera_letra(0)': 'v',\n",
       " 'ultima_letra(0)': 'a'}"
      ]
     },
     "execution_count": 101,
     "metadata": {},
     "output_type": "execute_result"
    }
   ],
   "source": [
    "atributos_esp('VASILKA')"
   ]
  },
  {
   "cell_type": "markdown",
   "metadata": {
    "id": "KuY1Ux30F9uZ"
   },
   "source": [
    "2. **Entrenamiento y performance del modelo**: usando el classificador de Naive Bayes de NLTK entrena un modelo sencillo usando el mismo feature de la última letra del nombre, prueba algunas predicciones y calcula el performance del modelo. "
   ]
  },
  {
   "cell_type": "code",
   "execution_count": 88,
   "metadata": {
    "id": "CvHwHTS8GT9I"
   },
   "outputs": [
    {
     "name": "stdout",
     "output_type": "stream",
     "text": [
      "39340\n",
      "10000\n"
     ]
    }
   ],
   "source": [
    "# escribe tu código aquí\n",
    "fsetE1 = [(atributos(n), g) for (n, g) in tagsetE]\n",
    "trainE1, testE1 = fsetE1[10000:], fsetE1[:10000]\n",
    "print(len(trainE1))\n",
    "print(len(testE1))"
   ]
  },
  {
   "cell_type": "code",
   "execution_count": 89,
   "metadata": {},
   "outputs": [
    {
     "name": "stdout",
     "output_type": "stream",
     "text": [
      "0.7883070665988815\n",
      "0.7931\n"
     ]
    }
   ],
   "source": [
    "classifierE1 = nltk.NaiveBayesClassifier.train(trainE1)\n",
    "print(nltk.classify.accuracy(classifierE1, trainE1))\n",
    "print(nltk.classify.accuracy(classifierE1, testE1))"
   ]
  },
  {
   "cell_type": "code",
   "execution_count": 90,
   "metadata": {},
   "outputs": [],
   "source": [
    "fsetE2 = [(mas_atributos(n), g) for (n, g) in tagsetE]\n",
    "trainE2, testE2 = fsetE2[10000:], fsetE2[:10000]"
   ]
  },
  {
   "cell_type": "code",
   "execution_count": 95,
   "metadata": {},
   "outputs": [
    {
     "name": "stdout",
     "output_type": "stream",
     "text": [
      "0.7989578037620743\n",
      "0.8011\n"
     ]
    }
   ],
   "source": [
    "classifierE2 = nltk.NaiveBayesClassifier.train(trainE2)\n",
    "print(nltk.classify.accuracy(classifierE2, trainE2))\n",
    "print(nltk.classify.accuracy(classifierE2, testE2))"
   ]
  },
  {
   "cell_type": "markdown",
   "metadata": {
    "id": "f4a2jv85GXA_"
   },
   "source": [
    "3. **Mejores atributos:** Define una función como `atributos_esp()` donde puedas extraer mejores atributos con los cuales entrenar una mejor version del clasificador. Haz un segundo entrenamiento y verifica como mejora el performance de tu modelo. ¿Se te ocurren mejores maneras de definir atributos para esta tarea particular?"
   ]
  },
  {
   "cell_type": "code",
   "execution_count": 92,
   "metadata": {
    "id": "9G-E5_CXIQiO"
   },
   "outputs": [
    {
     "name": "stdout",
     "output_type": "stream",
     "text": [
      "39340\n",
      "10000\n"
     ]
    }
   ],
   "source": [
    "# escribe tu código aquí\n",
    "fsetE3 = [(atributos_esp(n), g) for (n, g) in tagsetE]\n",
    "trainE3, testE3 = fsetE3[10000:], fsetE3[:10000]\n",
    "print(len(trainE3))\n",
    "print(len(testE3))"
   ]
  },
  {
   "cell_type": "code",
   "execution_count": 102,
   "metadata": {},
   "outputs": [
    {
     "name": "stdout",
     "output_type": "stream",
     "text": [
      "0.9273258769700051\n",
      "0.9073\n"
     ]
    }
   ],
   "source": [
    "classifierE3 = nltk.NaiveBayesClassifier.train(trainE3)\n",
    "print(nltk.classify.accuracy(classifierE3, trainE3))\n",
    "print(nltk.classify.accuracy(classifierE3, testE3))"
   ]
  },
  {
   "cell_type": "markdown",
   "metadata": {
    "id": "K7CXFyfoGf4s"
   },
   "source": [
    "# Clasificación de documentos (email spam o no spam)"
   ]
  },
  {
   "cell_type": "code",
   "execution_count": 28,
   "metadata": {
    "colab": {
     "base_uri": "https://localhost:8080/",
     "height": 32
    },
    "id": "Qfli08sgIzl_",
    "outputId": "7b634f01-0956-4843-8eb3-a4e5d2c77d3d",
    "pycharm": {
     "is_executing": true
    }
   },
   "outputs": [
    {
     "name": "stdout",
     "output_type": "stream",
     "text": [
      "fatal: la ruta de destino 'datasets' ya existe y no es un directorio vacío.\r\n"
     ]
    }
   ],
   "source": [
    "!git clone https://github.com/pachocamacho1990/datasets"
   ]
  },
  {
   "cell_type": "code",
   "execution_count": 29,
   "metadata": {
    "colab": {
     "base_uri": "https://localhost:8080/",
     "height": 115
    },
    "id": "bHFKXxclJ5LC",
    "outputId": "e2878b62-45ed-482a-faa2-92ce90b87731",
    "pycharm": {
     "is_executing": true
    }
   },
   "outputs": [
    {
     "name": "stderr",
     "output_type": "stream",
     "text": [
      "/home/oem/Desarrollo/estudio/Escuela de Data Science/clasificacion-con-NLTK/venv/lib/python3.7/site-packages/pandas/compat/__init__.py:117: UserWarning: Could not import the lzma module. Your installed Python is incomplete. Attempting to use lzma compression will result in a RuntimeError.\n",
      "  warnings.warn(msg)\n",
      "[nltk_data] Downloading package punkt to /home/oem/nltk_data...\n",
      "[nltk_data]   Package punkt is already up-to-date!\n",
      "[nltk_data] Downloading package averaged_perceptron_tagger to\n",
      "[nltk_data]     /home/oem/nltk_data...\n",
      "[nltk_data]   Package averaged_perceptron_tagger is already up-to-\n",
      "[nltk_data]       date!\n"
     ]
    }
   ],
   "source": [
    "import pandas as pd\n",
    "import numpy as np\n",
    "nltk.download('punkt')\n",
    "nltk.download('averaged_perceptron_tagger')\n",
    "from nltk import word_tokenize"
   ]
  },
  {
   "cell_type": "code",
   "execution_count": null,
   "metadata": {
    "colab": {
     "base_uri": "https://localhost:8080/",
     "height": 201
    },
    "id": "33oKcvcjKrlM",
    "outputId": "6183550d-66c9-41a4-e2a6-52c9da7ec461",
    "pycharm": {
     "is_executing": true
    }
   },
   "outputs": [],
   "source": []
  },
  {
   "cell_type": "code",
   "execution_count": null,
   "metadata": {
    "id": "OvHkYDylNMKP",
    "pycharm": {
     "is_executing": true
    }
   },
   "outputs": [],
   "source": []
  },
  {
   "cell_type": "code",
   "execution_count": null,
   "metadata": {
    "id": "O4kw1BQUOe4-",
    "pycharm": {
     "is_executing": true
    }
   },
   "outputs": [],
   "source": []
  },
  {
   "cell_type": "code",
   "execution_count": null,
   "metadata": {
    "id": "1g6F_qNfmRAW",
    "pycharm": {
     "is_executing": true
    }
   },
   "outputs": [],
   "source": []
  },
  {
   "cell_type": "code",
   "execution_count": null,
   "metadata": {
    "id": "SrCXXGMCn3zz",
    "pycharm": {
     "is_executing": true
    }
   },
   "outputs": [],
   "source": []
  },
  {
   "cell_type": "code",
   "execution_count": null,
   "metadata": {
    "id": "r6FGZE4OqkEa",
    "pycharm": {
     "is_executing": true
    }
   },
   "outputs": [],
   "source": []
  },
  {
   "cell_type": "code",
   "execution_count": null,
   "metadata": {
    "colab": {
     "base_uri": "https://localhost:8080/",
     "height": 32
    },
    "id": "xIyVc6lBrGOy",
    "outputId": "01479a1e-6f68-4423-d4d3-6b1f9673f43c",
    "pycharm": {
     "is_executing": true
    }
   },
   "outputs": [],
   "source": []
  },
  {
   "cell_type": "code",
   "execution_count": null,
   "metadata": {
    "colab": {
     "base_uri": "https://localhost:8080/",
     "height": 115
    },
    "id": "1x-R_PImrKIV",
    "outputId": "3b384c67-1640-422f-d9a1-19e41b42c667",
    "pycharm": {
     "is_executing": true
    }
   },
   "outputs": [],
   "source": []
  },
  {
   "cell_type": "code",
   "execution_count": null,
   "metadata": {
    "colab": {
     "base_uri": "https://localhost:8080/",
     "height": 214
    },
    "id": "wKzgha92up3l",
    "outputId": "ec079b59-5973-4084-e6ab-2f66037e92e5",
    "pycharm": {
     "is_executing": true
    }
   },
   "outputs": [],
   "source": []
  },
  {
   "cell_type": "markdown",
   "metadata": {
    "id": "YeBvifrnr3GY"
   },
   "source": [
    "## Ejercicio de práctica\n"
   ]
  },
  {
   "cell_type": "markdown",
   "metadata": {
    "id": "AR53vedlvd1O"
   },
   "source": [
    "¿Como podrías construir un mejor clasificador de documentos?\n",
    "\n",
    "0. **Dataset más grande:** El conjunto de datos que usamos fue muy pequeño, considera usar los archivos corpus que estan ubicados en la ruta: `datasets/email/plaintext/` \n",
    "\n",
    "1. **Limpieza:** como te diste cuenta no hicimos ningun tipo de limpieza de texto en los correos electrónicos. Considera usar expresiones regulares, filtros por categorias gramaticales, etc ... . \n",
    "\n",
    "---\n",
    "\n",
    "Con base en eso construye un dataset más grande y con un tokenizado más pulido. "
   ]
  },
  {
   "cell_type": "code",
   "execution_count": null,
   "metadata": {
    "id": "TOw2KrtnymVT",
    "pycharm": {
     "is_executing": true
    }
   },
   "outputs": [],
   "source": []
  },
  {
   "cell_type": "code",
   "execution_count": 30,
   "metadata": {
    "id": "v2ZO0aJyrTLx",
    "pycharm": {
     "is_executing": true
    }
   },
   "outputs": [],
   "source": [
    "# escribe tu código aquí:\n"
   ]
  },
  {
   "cell_type": "markdown",
   "metadata": {
    "id": "9V_KmDBHwiy8"
   },
   "source": [
    "2. **Validación del modelo anterior:**  \n",
    "---\n",
    "\n",
    "una vez tengas el nuevo conjunto de datos más pulido y de mayor tamaño, considera el mismo entrenamiento con el mismo tipo de atributos del ejemplo anterior, ¿mejora el accuracy del modelo resultante?"
   ]
  },
  {
   "cell_type": "code",
   "execution_count": 31,
   "metadata": {
    "id": "AM6Vhy-Fw8oj",
    "pycharm": {
     "is_executing": true
    }
   },
   "outputs": [],
   "source": [
    "# escribe tu código aquí:\n"
   ]
  },
  {
   "cell_type": "markdown",
   "metadata": {
    "id": "2lC72_CbxAoJ"
   },
   "source": [
    "3. **Construye mejores atributos**: A veces no solo se trata de las palabras más frecuentes sino de el contexto, y capturar contexto no es posible solo viendo los tokens de forma individual, ¿que tal si consideramos bi-gramas, tri-gramas ...?, ¿las secuencias de palabras podrián funcionar como mejores atributos para el modelo?. Para ver si es así,  podemos extraer n-gramas de nuestro corpus y obtener sus frecuencias de aparición con `FreqDist()`, desarrolla tu propia manera de hacerlo y entrena un modelo con esos nuevos atributos, no olvides compartir tus resultados en la sección de comentarios. "
   ]
  },
  {
   "cell_type": "code",
   "execution_count": 32,
   "metadata": {
    "id": "wtMkQWpfxoy3",
    "pycharm": {
     "is_executing": true
    }
   },
   "outputs": [],
   "source": [
    "# escribe tu código aquí:\n"
   ]
  }
 ],
 "metadata": {
  "colab": {
   "name": "[Lecture_19/20]Modelos_clasificacion.ipynb",
   "provenance": []
  },
  "kernelspec": {
   "display_name": "Python 3",
   "language": "python",
   "name": "python3"
  },
  "language_info": {
   "codemirror_mode": {
    "name": "ipython",
    "version": 3
   },
   "file_extension": ".py",
   "mimetype": "text/x-python",
   "name": "python",
   "nbconvert_exporter": "python",
   "pygments_lexer": "ipython3",
   "version": "3.7.2"
  }
 },
 "nbformat": 4,
 "nbformat_minor": 1
}